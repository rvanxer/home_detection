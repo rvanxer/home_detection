{
 "cells": [
  {
   "cell_type": "code",
   "execution_count": 1,
   "metadata": {},
   "outputs": [
    {
     "name": "stderr",
     "output_type": "stream",
     "text": [
      "/home/umni2/a/umnilab/apps/Anaconda3/lib/python3.8/site-packages/geopandas/_compat.py:112: UserWarning: The Shapely GEOS version (3.11.1-CAPI-1.17.1) is incompatible with the GEOS version PyGEOS was compiled with (3.10.4-CAPI-1.16.2). Conversions between both will be slow.\n",
      "  warnings.warn(\n"
     ]
    }
   ],
   "source": [
    "import os\n",
    "os.environ['OPENBLAS_NUM_THREADS'] = '1'\n",
    "import pandas as pd\n",
    "import numpy as np\n",
    "import matplotlib.pyplot as plt\n",
    "from sklearn.cluster import MeanShift, estimate_bandwidth, KMeans\n",
    "from sklearn.metrics import silhouette_score\n",
    "import haversine as hs\n",
    "from haversine import Unit\n",
    "import json, urllib\n",
    "import geopandas as gpd\n",
    "import contextily as ctx\n",
    "from pyproj import Proj, transform\n",
    "from shapely.geometry import Point, Polygon\n",
    "import pyarrow.parquet as pq\n",
    "from sklearn.cluster import AgglomerativeClustering\n",
    "import scipy.cluster.hierarchy as sch\n",
    "umni2 = \"/home/umni2/a/umnilab/users/mittal53/home inference/data files/\"\n",
    "path = \"/home/umni2/a/umnilab/users/mittal53/Paper3/data files/\"\n",
    "\n",
    "city = \"houston\" ## Among [indianapolis, austin, houston]\n",
    "data_path = f\"/home/umni2/a/umnilab/users/verma99/mk/home_detection/data/{city}/\"\n",
    "\n",
    "import random\n",
    "from scipy import integrate\n",
    "colors = [\"r\",\"b\",\"g\",\"c\",\"m\",\"y\",\"k\",\"orange\",\"gold\",\"lime\",\"aquamarine\",\"deepskyblue\",\"lightcoral\",\"lightsalmon\"]"
   ]
  },
  {
   "cell_type": "code",
   "execution_count": 2,
   "metadata": {},
   "outputs": [],
   "source": [
    "import pyspark\n",
    "from pyspark.sql import *\n",
    "from pyspark.sql.functions import lit,array\n",
    "from pyspark.sql.functions import struct\n",
    "from pyspark.sql.types import *\n",
    "from pyspark.context import SparkContext\n",
    "from pyspark.sql.session import SparkSession\n",
    "from pyspark.sql import functions as F\n",
    "conf = pyspark.SparkConf().setAll([('spark.local.dir', '/home/umni2/a/umnilab/projects/INDOT/common/python/temp/'), \n",
    "                                   ('spark.executor.memory', '160g'), ('spark.driver.maxResultSize',0), \n",
    "                                   ('spark.driver.memory','160g')])\n",
    "# conf = pyspark.SparkConf().setAll([('spark.local.dir', '/home/umni2/a/umnilab/projects/INDOT/common/python/temp/'), \n",
    "#                                    ('spark.sql.shuffle.partitions', 70), ('spark.driver.maxResultSize',0), \n",
    "#                                    ('spark.executor.memory', '160g'), ('spark.executor.cores', 70), \n",
    "#                                    ('spark.cores.max', 70), ('spark.driver.memory','160g'), \n",
    "#                                    ('spark.default.parallelism', 70)])\n",
    "# sc.stop()\n",
    "sc = pyspark.SparkContext(conf=conf)\n",
    "spark = SparkSession(sc)"
   ]
  },
  {
   "cell_type": "markdown",
   "metadata": {},
   "source": [
    "<h3>Prepare files for userwise data</h3>"
   ]
  },
  {
   "cell_type": "code",
   "execution_count": 2,
   "metadata": {
    "scrolled": true
   },
   "outputs": [
    {
     "name": "stdout",
     "output_type": "stream",
     "text": [
      "1 7\n",
      "CPU times: user 4.38 s, sys: 1.76 s, total: 6.14 s\n",
      "Wall time: 3.43 s\n",
      "2 7\n",
      "CPU times: user 5.06 s, sys: 2.22 s, total: 7.28 s\n",
      "Wall time: 3.88 s\n",
      "CPU times: user 473 ms, sys: 46.8 ms, total: 519 ms\n",
      "Wall time: 519 ms\n",
      "3 7\n",
      "CPU times: user 5.49 s, sys: 2.54 s, total: 8.03 s\n",
      "Wall time: 4.43 s\n",
      "CPU times: user 426 ms, sys: 48.3 ms, total: 474 ms\n",
      "Wall time: 463 ms\n",
      "4 7\n",
      "CPU times: user 6.13 s, sys: 3.73 s, total: 9.86 s\n",
      "Wall time: 4.76 s\n",
      "CPU times: user 525 ms, sys: 122 ms, total: 647 ms\n",
      "Wall time: 572 ms\n",
      "5 7\n",
      "CPU times: user 6.65 s, sys: 3.78 s, total: 10.4 s\n",
      "Wall time: 4.93 s\n",
      "CPU times: user 600 ms, sys: 796 ms, total: 1.4 s\n",
      "Wall time: 1.02 s\n",
      "6 7\n",
      "CPU times: user 5.63 s, sys: 3.6 s, total: 9.23 s\n",
      "Wall time: 4.61 s\n",
      "CPU times: user 693 ms, sys: 369 ms, total: 1.06 s\n",
      "Wall time: 886 ms\n",
      "7 7\n",
      "CPU times: user 5.98 s, sys: 3.61 s, total: 9.59 s\n",
      "Wall time: 4.91 s\n",
      "CPU times: user 774 ms, sys: 373 ms, total: 1.15 s\n",
      "Wall time: 983 ms\n",
      "CPU times: user 57.6 s, sys: 15.5 s, total: 1min 13s\n",
      "Wall time: 1min 19s\n"
     ]
    }
   ],
   "source": [
    "## For just 7 days, prepare only 1 file\n",
    "year = 2021\n",
    "month = 7\n",
    "first_day = 1\n",
    "last_day = 7\n",
    "\n",
    "df=0\n",
    "for day in range(first_day, last_day+1):\n",
    "    print(day, month)\n",
    "    %time df_temp = pd.read_parquet(f\"{data_path}pings/{year}-{month:02d}-{day:02d}\")\n",
    "    df_temp[\"Date\"] = f\"{year}-{month:02d}-{day:02d}\"\n",
    "    if day==first_day:\n",
    "        df = df_temp\n",
    "    else:\n",
    "        %time df = df.append(df_temp, ignore_index=True)\n",
    "%time df.to_parquet(f\"{umni2}{city}/raw_userwise_pings.parquet\", index=None)"
   ]
  },
  {
   "cell_type": "markdown",
   "metadata": {},
   "source": [
    "### Check Precision"
   ]
  },
  {
   "cell_type": "code",
   "execution_count": 3,
   "metadata": {},
   "outputs": [
    {
     "name": "stderr",
     "output_type": "stream",
     "text": [
      "/home/umni2/a/umnilab/apps/Anaconda3/lib/python3.8/site-packages/geopandas/geodataframe.py:643: RuntimeWarning: Sequential read of iterator was interrupted. Resetting iterator. This can negatively impact the performance.\n",
      "  for feature in features_lst:\n"
     ]
    },
    {
     "name": "stdout",
     "output_type": "stream",
     "text": [
      "With precision of 4, points have a distance of 11.193198414185623 m between them.\n"
     ]
    }
   ],
   "source": [
    "counties = gpd.read_file(f\"{data_path}/geometry/counties.gpkg\")\n",
    "bounds = pd.DataFrame(counties[\"geometry\"].apply(lambda x: x.bounds).tolist(), columns=[\"xmin\", \"ymin\", \"xmax\", \"ymax\"])\n",
    "xmin = bounds[\"xmin\"].min()\n",
    "ymin = bounds[\"ymin\"].min()\n",
    "\n",
    "## Test if round 4 results in distance between 5-50 m \n",
    "round_val = 4\n",
    "pt1 = round(xmin, round_val), round(ymin, round_val)\n",
    "pt2 = round(xmin, round_val)+1/(10**round_val), round(ymin, round_val)+1/(10**round_val)\n",
    "print(f\"With precision of {round_val}, points have a distance of {hs.haversine(pt1, pt2, unit=Unit.METERS)} m between them.\" )"
   ]
  },
  {
   "cell_type": "markdown",
   "metadata": {},
   "source": [
    "<h3>Change precision of points and then hierarchical</h3>"
   ]
  },
  {
   "cell_type": "code",
   "execution_count": 3,
   "metadata": {},
   "outputs": [],
   "source": [
    "user_days = spark.read.parquet(f\"{umni2}{city}/raw_userwise_pings.parquet\")"
   ]
  },
  {
   "cell_type": "code",
   "execution_count": 4,
   "metadata": {},
   "outputs": [],
   "source": [
    "def dist_m2deg(dist, lat, a=6_371_001, b=6_356_752):\n",
    "    lat = np.deg2rad(lat)\n",
    "    curve_radius = (a * b) ** 2 / (\n",
    "            (a * np.cos(lat)) ** 2 + (b * np.sin(lat)) ** 2) ** 1.5\n",
    "    return np.rad2deg(dist / curve_radius)\n",
    "\n",
    "def get_num_clusters(df_now):\n",
    "    dendrogram = sch.dendrogram(sch.linkage(df_now[[\"lon\",\"lat\"]].values, method='average'), no_plot=True)\n",
    "    dt = dist_m2deg(100, df_now.iloc[0].lat)\n",
    "    dt_max = dist_m2deg(200, df_now.iloc[0].lat)\n",
    "    d_eps = dist_m2deg(1, df_now.iloc[0].lat)\n",
    "    dcoord = pd.DataFrame(dendrogram[\"dcoord\"], columns=[\"x1\", \"x2\", \"x3\", \"x4\"])\n",
    "    num_clusters = 1\n",
    "    done = 0\n",
    "    while done==0:\n",
    "        num_clusters_pre = num_clusters\n",
    "        d_df = dcoord[dcoord[\"x2\"]<dt]\n",
    "        if len(d_df)==0:\n",
    "            d = d_eps\n",
    "        else:\n",
    "            d = np.max(d_df[[\"x2\"]].values)\n",
    "        D_df = dcoord[dcoord[\"x2\"]>dt]\n",
    "        if len(D_df)==0:\n",
    "            done = 1\n",
    "            num_clusters = 1\n",
    "        else:\n",
    "            D = np.min(D_df[[\"x2\"]].values)\n",
    "            num_clusters = len(dcoord[(dcoord[\"x1\"]<dt)&(dcoord[\"x2\"]>dt)]) + len(dcoord[(dcoord[\"x3\"]>dt)&(dcoord[\"x4\"]<dt)])\n",
    "            if d>dt_max:\n",
    "                num_clusters = num_clusters_pre\n",
    "                done = 1\n",
    "            else:\n",
    "                if d==0:\n",
    "                    ratio_min = D/dt\n",
    "                else:\n",
    "                    ratio_min = min(D/d, D/dt)\n",
    "                if ratio_min>1.5:\n",
    "                    num_clusters = num_clusters\n",
    "                    done = 1\n",
    "                else:\n",
    "                    dt = D + d_eps\n",
    "    return(num_clusters)"
   ]
  },
  {
   "cell_type": "code",
   "execution_count": 5,
   "metadata": {},
   "outputs": [],
   "source": [
    "from pyspark.sql.functions import pandas_udf\n",
    "from pyspark.sql.functions import PandasUDFType  \n",
    "\n",
    "group_column = [\"uid\"]\n",
    "group_column2 = [\"Date\"]\n",
    "other_cols = [\"lat\", \"lon\",\"ts\", \"error\"]\n",
    "schema = user_days.select(*group_column, *group_column2, *other_cols).schema.add(\"label\", ArrayType(IntegerType()), True)\n",
    "round_val = 4\n",
    "\n",
    "@pandas_udf(schema, PandasUDFType.GROUPED_MAP)\n",
    "# Input/output are both a pandas.DataFrame\n",
    "def hierarchical_pandas_grid(pdf):\n",
    "    pdf = pdf.apply(pd.Series.explode).reset_index().drop(\"index\", axis=1)\n",
    "    pdf[\"x\"] = (pdf[\"lon\"]*(10**round_val)).astype(int)\n",
    "    pdf[\"y\"] = (pdf[\"lat\"]*(10**round_val)).astype(int)\n",
    "    pdf_sample = pdf.groupby([\"x\", \"y\"]).apply(lambda x: x.sample(1)).reset_index(drop=True)\n",
    "    X = pdf_sample[[\"lon\",\"lat\"]].values\n",
    "    try:\n",
    "        n_clusters = get_num_clusters(pdf_sample)\n",
    "        model = AgglomerativeClustering(n_clusters=n_clusters, affinity='euclidean', linkage='average')\n",
    "        model.fit(X)\n",
    "        labels_ = model.labels_\n",
    "    except:\n",
    "        try:\n",
    "            model = MeanShift(bandwidth=dist_m2deg(100, pdf_sample.iloc[0].lat), max_iter=30)\n",
    "            model.fit(X)\n",
    "            labels_ = model.labels_\n",
    "        except:\n",
    "            labels_ = 0\n",
    "    pdf_sample[\"label\"] = labels_\n",
    "    pdf = pdf.merge(pdf_sample[[\"x\", \"y\", \"label\"]], on=[\"x\", \"y\"])[['uid', 'lon', 'lat', 'ts', 'error', 'Date', 'label']]\n",
    "    pdf = pdf.groupby(group_column+group_column2)[other_cols+[\"label\"]].agg(list).reset_index()\n",
    "    return pdf"
   ]
  },
  {
   "cell_type": "code",
   "execution_count": 6,
   "metadata": {
    "scrolled": true
   },
   "outputs": [
    {
     "name": "stderr",
     "output_type": "stream",
     "text": [
      "/home/umni2/a/umnilab/apps/Anaconda3/lib/python3.8/site-packages/pyspark/sql/pandas/group_ops.py:81: UserWarning: It is preferred to use 'applyInPandas' over this API. This API will be deprecated in the future releases. See SPARK-28264 for more details.\n",
      "  warnings.warn(\n"
     ]
    },
    {
     "name": "stdout",
     "output_type": "stream",
     "text": [
      "CPU times: user 5min 59s, sys: 2min 16s, total: 8min 16s\n",
      "Wall time: 47min 15s\n",
      "CPU times: user 2min 42s, sys: 59.2 s, total: 3min 41s\n",
      "Wall time: 3min 41s\n"
     ]
    }
   ],
   "source": [
    "user_days_clustered = user_days.groupby(group_column).apply(hierarchical_pandas_grid)\n",
    "%time df_user_days_clustered = user_days_clustered.toPandas()\n",
    "%time df_user_days_clustered.to_parquet(f\"{umni2}/{city}/location_clusters.parquet\", index=None)"
   ]
  },
  {
   "cell_type": "code",
   "execution_count": 7,
   "metadata": {},
   "outputs": [
    {
     "data": {
      "text/html": [
       "<div>\n",
       "<style scoped>\n",
       "    .dataframe tbody tr th:only-of-type {\n",
       "        vertical-align: middle;\n",
       "    }\n",
       "\n",
       "    .dataframe tbody tr th {\n",
       "        vertical-align: top;\n",
       "    }\n",
       "\n",
       "    .dataframe thead th {\n",
       "        text-align: right;\n",
       "    }\n",
       "</style>\n",
       "<table border=\"1\" class=\"dataframe\">\n",
       "  <thead>\n",
       "    <tr style=\"text-align: right;\">\n",
       "      <th></th>\n",
       "      <th>uid</th>\n",
       "      <th>Date</th>\n",
       "      <th>lat</th>\n",
       "      <th>lon</th>\n",
       "      <th>ts</th>\n",
       "      <th>error</th>\n",
       "      <th>label</th>\n",
       "    </tr>\n",
       "  </thead>\n",
       "  <tbody>\n",
       "    <tr>\n",
       "      <th>0</th>\n",
       "      <td>-9221238819619773168</td>\n",
       "      <td>2021-07-01</td>\n",
       "      <td>[29.701332092285156, 29.701332092285156, 29.70...</td>\n",
       "      <td>[-94.8634033203125, -94.8634033203125, -94.863...</td>\n",
       "      <td>[25261.0, 25267.0, 25312.0, 25317.0, 35522.0, ...</td>\n",
       "      <td>[24.0, 13.0, 24.0, 13.0, 6.0, 6.0]</td>\n",
       "      <td>[0, 0, 0, 0, 0, 0]</td>\n",
       "    </tr>\n",
       "    <tr>\n",
       "      <th>1</th>\n",
       "      <td>-9221238819619773168</td>\n",
       "      <td>2021-07-02</td>\n",
       "      <td>[29.720779418945312, 29.72076988220215]</td>\n",
       "      <td>[-94.85456085205078, -94.85455322265625]</td>\n",
       "      <td>[65520.0, 65575.0]</td>\n",
       "      <td>[11.0, 11.0]</td>\n",
       "      <td>[1, 1]</td>\n",
       "    </tr>\n",
       "    <tr>\n",
       "      <th>2</th>\n",
       "      <td>-9221238819619773168</td>\n",
       "      <td>2021-07-03</td>\n",
       "      <td>[29.701339721679688, 29.701332092285156, 29.70...</td>\n",
       "      <td>[-94.8634033203125, -94.8634033203125, -94.863...</td>\n",
       "      <td>[35522.0, 35571.0, 64805.0, 64850.0, 83179.0, ...</td>\n",
       "      <td>[6.0, 6.0, 9.0, 9.0, 9.0, 9.0, 11.0, 11.0]</td>\n",
       "      <td>[0, 0, 0, 0, 0, 0, 0, 0]</td>\n",
       "    </tr>\n",
       "    <tr>\n",
       "      <th>3</th>\n",
       "      <td>-9221238819619773168</td>\n",
       "      <td>2021-07-04</td>\n",
       "      <td>[29.701332092285156, 29.701330184936523, 29.70...</td>\n",
       "      <td>[-94.8634033203125, -94.8634033203125, -94.863...</td>\n",
       "      <td>[25261.0, 25267.0, 25312.0, 25317.0, 35522.0, ...</td>\n",
       "      <td>[24.0, 13.0, 24.0, 13.0, 6.0, 6.0, 4.0]</td>\n",
       "      <td>[0, 0, 0, 0, 0, 0, 0]</td>\n",
       "    </tr>\n",
       "    <tr>\n",
       "      <th>4</th>\n",
       "      <td>-9221238819619773168</td>\n",
       "      <td>2021-07-06</td>\n",
       "      <td>[29.720779418945312, 29.72076988220215]</td>\n",
       "      <td>[-94.85456085205078, -94.85456085205078]</td>\n",
       "      <td>[65520.0, 65575.0]</td>\n",
       "      <td>[11.0, 11.0]</td>\n",
       "      <td>[1, 1]</td>\n",
       "    </tr>\n",
       "  </tbody>\n",
       "</table>\n",
       "</div>"
      ],
      "text/plain": [
       "                   uid        Date  \\\n",
       "0 -9221238819619773168  2021-07-01   \n",
       "1 -9221238819619773168  2021-07-02   \n",
       "2 -9221238819619773168  2021-07-03   \n",
       "3 -9221238819619773168  2021-07-04   \n",
       "4 -9221238819619773168  2021-07-06   \n",
       "\n",
       "                                                 lat  \\\n",
       "0  [29.701332092285156, 29.701332092285156, 29.70...   \n",
       "1            [29.720779418945312, 29.72076988220215]   \n",
       "2  [29.701339721679688, 29.701332092285156, 29.70...   \n",
       "3  [29.701332092285156, 29.701330184936523, 29.70...   \n",
       "4            [29.720779418945312, 29.72076988220215]   \n",
       "\n",
       "                                                 lon  \\\n",
       "0  [-94.8634033203125, -94.8634033203125, -94.863...   \n",
       "1           [-94.85456085205078, -94.85455322265625]   \n",
       "2  [-94.8634033203125, -94.8634033203125, -94.863...   \n",
       "3  [-94.8634033203125, -94.8634033203125, -94.863...   \n",
       "4           [-94.85456085205078, -94.85456085205078]   \n",
       "\n",
       "                                                  ts  \\\n",
       "0  [25261.0, 25267.0, 25312.0, 25317.0, 35522.0, ...   \n",
       "1                                 [65520.0, 65575.0]   \n",
       "2  [35522.0, 35571.0, 64805.0, 64850.0, 83179.0, ...   \n",
       "3  [25261.0, 25267.0, 25312.0, 25317.0, 35522.0, ...   \n",
       "4                                 [65520.0, 65575.0]   \n",
       "\n",
       "                                        error                     label  \n",
       "0          [24.0, 13.0, 24.0, 13.0, 6.0, 6.0]        [0, 0, 0, 0, 0, 0]  \n",
       "1                                [11.0, 11.0]                    [1, 1]  \n",
       "2  [6.0, 6.0, 9.0, 9.0, 9.0, 9.0, 11.0, 11.0]  [0, 0, 0, 0, 0, 0, 0, 0]  \n",
       "3     [24.0, 13.0, 24.0, 13.0, 6.0, 6.0, 4.0]     [0, 0, 0, 0, 0, 0, 0]  \n",
       "4                                [11.0, 11.0]                    [1, 1]  "
      ]
     },
     "execution_count": 7,
     "metadata": {},
     "output_type": "execute_result"
    }
   ],
   "source": [
    "df_user_days_clustered.head()"
   ]
  },
  {
   "cell_type": "markdown",
   "metadata": {},
   "source": [
    "<h3>Extraction of Stay region</h3>"
   ]
  },
  {
   "cell_type": "code",
   "execution_count": 3,
   "metadata": {},
   "outputs": [],
   "source": [
    "user_days_clustered = spark.read.parquet(f\"{umni2}/{city}/location_clusters.parquet\")"
   ]
  },
  {
   "cell_type": "code",
   "execution_count": 4,
   "metadata": {},
   "outputs": [],
   "source": [
    "from pyspark.sql.functions import pandas_udf\n",
    "from pyspark.sql.functions import PandasUDFType \n",
    "\n",
    "group_column = [\"uid\",\"Date\"]\n",
    "schema = user_days_clustered.select(*group_column).schema\n",
    "schema = schema.add(\"label\", IntegerType(), True).add(\"stay_time\", IntegerType(), True).add(\"cluster_change\", IntegerType(), True).add(\"waypoint_x\", ArrayType(FloatType()), True).add(\"waypoint_y\", ArrayType(FloatType()), True).add(\"waypoint_time\", ArrayType(IntegerType()), True)\n",
    "time_threshold = 10*60\n",
    "all_cols = [\"dev_num\",\"day_id\", \"waypoint_x\", \"waypoint_y\", \"waypoint_time\",\"stay_time\",\"cluster_change\", \"label\"]\n",
    "    \n",
    "@pandas_udf(schema, PandasUDFType.GROUPED_MAP)\n",
    "# Input/output are both a pandas.DataFrame\n",
    "def stay_regions_extract_pandas(pdf):\n",
    "    pdf = pdf.apply(pd.Series.explode).reset_index().drop(\"index\", axis=1)\n",
    "    dev_num = pdf.iloc[0][\"uid\"]\n",
    "    day_id = pdf.iloc[0][\"Date\"]\n",
    "\n",
    "    pdf = pdf.sort_values(by=['ts'])\n",
    "    pdf[\"cluster_change\"]=(pdf.label.diff(1) != 0).astype('int').cumsum()\n",
    "\n",
    "#     stay_cluster_labels = np.repeat(-1, pdf.shape[0])\n",
    "#     minutes_of_stay = (pdf.groupby('cluster_change')[\"ts\"].last() - pdf.groupby('cluster_change')[\"ts\"].first()).values\n",
    "#     stay_cluster_labels_ind = np.argwhere(minutes_of_stay>time_threshold) + 1\n",
    "#     stay_cluster_labels[pdf[\"cluster_change\"].isin(stay_cluster_labels_ind[:,0])] = pdf[\"label\"].values[pdf[\"cluster_change\"].isin(stay_cluster_labels_ind[:,0])]\n",
    "#     pdf[\"stay_cluster_labels\"] = stay_cluster_labels\n",
    "    \n",
    "    pdf2 = pdf.groupby(['cluster_change']).apply(lambda x: [list(x['lon']), list(x['lat']), list(x['ts']), x[\"label\"].values[0]]).apply(pd.Series).reset_index()\n",
    "    pdf2.columns = ['cluster_change', 'waypoint_x', 'waypoint_y', 'waypoint_time', 'label']\n",
    "    pdf2[\"stay_time\"] = pdf2[\"waypoint_time\"].str[-1] - pdf2[\"waypoint_time\"].str[0]\n",
    "    pdf2[\"uid\"] = dev_num\n",
    "    pdf2[\"Date\"] = day_id\n",
    "    \n",
    "    return pdf2"
   ]
  },
  {
   "cell_type": "code",
   "execution_count": 5,
   "metadata": {},
   "outputs": [
    {
     "name": "stderr",
     "output_type": "stream",
     "text": [
      "/home/umni2/a/umnilab/apps/Anaconda3/lib/python3.8/site-packages/pyspark/sql/pandas/group_ops.py:81: UserWarning: It is preferred to use 'applyInPandas' over this API. This API will be deprecated in the future releases. See SPARK-28264 for more details.\n",
      "  warnings.warn(\n"
     ]
    },
    {
     "name": "stdout",
     "output_type": "stream",
     "text": [
      "CPU times: user 12min, sys: 2min 48s, total: 14min 48s\n",
      "Wall time: 1h 6min 7s\n",
      "CPU times: user 3min 10s, sys: 54 s, total: 4min 4s\n",
      "Wall time: 4min 3s\n"
     ]
    }
   ],
   "source": [
    "user_days_clustered = user_days_clustered.groupby(group_column).apply(stay_regions_extract_pandas)\n",
    "%time user_days_clustered = user_days_clustered.toPandas()\n",
    "user_days_clustered['min_time'] = [min(x) for x in user_days_clustered[\"waypoint_time\"].tolist()]\n",
    "user_days_clustered['max_time'] = [max(x) for x in user_days_clustered[\"waypoint_time\"].tolist()]\n",
    "%time user_days_clustered.to_parquet(f\"{umni2}/{city}/user_stay_regions.parquet\", index=None)"
   ]
  },
  {
   "cell_type": "code",
   "execution_count": 6,
   "metadata": {},
   "outputs": [
    {
     "data": {
      "text/html": [
       "<div>\n",
       "<style scoped>\n",
       "    .dataframe tbody tr th:only-of-type {\n",
       "        vertical-align: middle;\n",
       "    }\n",
       "\n",
       "    .dataframe tbody tr th {\n",
       "        vertical-align: top;\n",
       "    }\n",
       "\n",
       "    .dataframe thead th {\n",
       "        text-align: right;\n",
       "    }\n",
       "</style>\n",
       "<table border=\"1\" class=\"dataframe\">\n",
       "  <thead>\n",
       "    <tr style=\"text-align: right;\">\n",
       "      <th></th>\n",
       "      <th>uid</th>\n",
       "      <th>Date</th>\n",
       "      <th>label</th>\n",
       "      <th>stay_time</th>\n",
       "      <th>cluster_change</th>\n",
       "      <th>waypoint_x</th>\n",
       "      <th>waypoint_y</th>\n",
       "      <th>waypoint_time</th>\n",
       "      <th>min_time</th>\n",
       "      <th>max_time</th>\n",
       "    </tr>\n",
       "  </thead>\n",
       "  <tbody>\n",
       "    <tr>\n",
       "      <th>0</th>\n",
       "      <td>-9220602783561688784</td>\n",
       "      <td>2021-03-06</td>\n",
       "      <td>2</td>\n",
       "      <td>0</td>\n",
       "      <td>1</td>\n",
       "      <td>[-85.72207641601562]</td>\n",
       "      <td>[39.824005126953125]</td>\n",
       "      <td>[41876]</td>\n",
       "      <td>41876</td>\n",
       "      <td>41876</td>\n",
       "    </tr>\n",
       "    <tr>\n",
       "      <th>1</th>\n",
       "      <td>-9220602783561688784</td>\n",
       "      <td>2021-03-06</td>\n",
       "      <td>1</td>\n",
       "      <td>0</td>\n",
       "      <td>2</td>\n",
       "      <td>[-85.72765350341797, -85.72764587402344]</td>\n",
       "      <td>[39.82332992553711, 39.823333740234375]</td>\n",
       "      <td>[41892, 41892]</td>\n",
       "      <td>41892</td>\n",
       "      <td>41892</td>\n",
       "    </tr>\n",
       "    <tr>\n",
       "      <th>2</th>\n",
       "      <td>-9220602783561688784</td>\n",
       "      <td>2021-03-06</td>\n",
       "      <td>3</td>\n",
       "      <td>0</td>\n",
       "      <td>3</td>\n",
       "      <td>[-85.73217010498047]</td>\n",
       "      <td>[39.822784423828125]</td>\n",
       "      <td>[41904]</td>\n",
       "      <td>41904</td>\n",
       "      <td>41904</td>\n",
       "    </tr>\n",
       "    <tr>\n",
       "      <th>3</th>\n",
       "      <td>-9220175794193110245</td>\n",
       "      <td>2021-03-07</td>\n",
       "      <td>1</td>\n",
       "      <td>600</td>\n",
       "      <td>1</td>\n",
       "      <td>[-86.08483123779297, -86.0848388671875, -86.08...</td>\n",
       "      <td>[39.76068878173828, 39.76068115234375, 39.7606...</td>\n",
       "      <td>[30302, 30351, 30369, 30419, 30454, 30463, 305...</td>\n",
       "      <td>30302</td>\n",
       "      <td>30902</td>\n",
       "    </tr>\n",
       "    <tr>\n",
       "      <th>4</th>\n",
       "      <td>-9220175794193110245</td>\n",
       "      <td>2021-03-07</td>\n",
       "      <td>0</td>\n",
       "      <td>0</td>\n",
       "      <td>2</td>\n",
       "      <td>[-86.07396697998047]</td>\n",
       "      <td>[39.75120162963867]</td>\n",
       "      <td>[30909]</td>\n",
       "      <td>30909</td>\n",
       "      <td>30909</td>\n",
       "    </tr>\n",
       "  </tbody>\n",
       "</table>\n",
       "</div>"
      ],
      "text/plain": [
       "                   uid        Date  label  stay_time  cluster_change  \\\n",
       "0 -9220602783561688784  2021-03-06      2          0               1   \n",
       "1 -9220602783561688784  2021-03-06      1          0               2   \n",
       "2 -9220602783561688784  2021-03-06      3          0               3   \n",
       "3 -9220175794193110245  2021-03-07      1        600               1   \n",
       "4 -9220175794193110245  2021-03-07      0          0               2   \n",
       "\n",
       "                                          waypoint_x  \\\n",
       "0                               [-85.72207641601562]   \n",
       "1           [-85.72765350341797, -85.72764587402344]   \n",
       "2                               [-85.73217010498047]   \n",
       "3  [-86.08483123779297, -86.0848388671875, -86.08...   \n",
       "4                               [-86.07396697998047]   \n",
       "\n",
       "                                          waypoint_y  \\\n",
       "0                               [39.824005126953125]   \n",
       "1            [39.82332992553711, 39.823333740234375]   \n",
       "2                               [39.822784423828125]   \n",
       "3  [39.76068878173828, 39.76068115234375, 39.7606...   \n",
       "4                                [39.75120162963867]   \n",
       "\n",
       "                                       waypoint_time  min_time  max_time  \n",
       "0                                            [41876]     41876     41876  \n",
       "1                                     [41892, 41892]     41892     41892  \n",
       "2                                            [41904]     41904     41904  \n",
       "3  [30302, 30351, 30369, 30419, 30454, 30463, 305...     30302     30902  \n",
       "4                                            [30909]     30909     30909  "
      ]
     },
     "execution_count": 6,
     "metadata": {},
     "output_type": "execute_result"
    }
   ],
   "source": [
    "user_days_clustered.head()"
   ]
  },
  {
   "cell_type": "markdown",
   "metadata": {},
   "source": [
    "<h3>Metric Computation</h3>"
   ]
  },
  {
   "cell_type": "code",
   "execution_count": 7,
   "metadata": {
    "scrolled": true
   },
   "outputs": [
    {
     "name": "stdout",
     "output_type": "stream",
     "text": [
      "D1\n",
      "A0\n",
      "Number of users detected with A0 = 147651\n",
      "19 users do not have a stay point detected in A0\n",
      "147632 users have a stay point detected in A0\n",
      "A1\n",
      "Number of users detected with A1 = 147651\n",
      "19 users do not have a stay point detected in A1\n",
      "147632 users have a stay point detected in A1\n",
      "A2\n",
      "Number of users detected with A2 = 147651\n",
      "19 users do not have a stay point detected in A2\n",
      "147632 users have a stay point detected in A2\n",
      "A3\n",
      "Number of users detected with A3 = 844117\n",
      "179643 users do not have a stay point detected in A3\n",
      "664474 users have a stay point detected in A3\n",
      "D2\n",
      "A0\n",
      "Number of users detected with A0 = 149643\n",
      "1059 users do not have a stay point detected in A0\n",
      "148584 users have a stay point detected in A0\n",
      "A1\n",
      "Number of users detected with A1 = 149643\n",
      "1059 users do not have a stay point detected in A1\n",
      "148584 users have a stay point detected in A1\n",
      "A2\n",
      "Number of users detected with A2 = 149643\n",
      "1059 users do not have a stay point detected in A2\n",
      "148584 users have a stay point detected in A2\n",
      "A3\n",
      "Number of users detected with A3 = 1024283\n",
      "351785 users do not have a stay point detected in A3\n",
      "672498 users have a stay point detected in A3\n"
     ]
    }
   ],
   "source": [
    "## Check if all users have a cluster\n",
    "user_days_clustered = pd.read_parquet(f\"{umni2}/{city}/user_stay_regions.parquet\")\n",
    "day_hours = [6, 21] ## Day time will be from 6 AM to 9 PM | Night time will be 9:00:01 PM to 5:59:59 AM\n",
    "night_clusters = user_days_clustered[~((user_days_clustered.min_time.between(day_hours[0]*3600, (day_hours[1])*3600))&(user_days_clustered.max_time.between(day_hours[0]*3600, (1+day_hours[1])*3600)))]\n",
    "# threshold = (10*3600)\n",
    "# stay_regions = night_clusters[night_clusters.stay_time>=threshold]\n",
    "stay_regions = night_clusters\n",
    "max_algos = 4\n",
    "Ds = 2\n",
    "for cnt0 in range(1, Ds+1):\n",
    "    print(f\"D{cnt0}\")\n",
    "    for cnt in range(0, max_algos):\n",
    "        print(f\"A{cnt}\")\n",
    "        home_locs_now = pd.read_parquet(f\"{data_path}homes/D{cnt0}/A{cnt}.parquet\")\n",
    "        print(f\"Number of users detected with A{cnt} = {len(home_locs_now)}\")\n",
    "        check = home_locs_now.merge(stay_regions[[\"uid\", \"label\"]], on=\"uid\", how=\"left\")\n",
    "        print(f\"{len(check[check.label.isnull()])} users do not have a stay point detected in A{cnt}\")\n",
    "        print(f\"{check[~check.label.isnull()].uid.nunique()} users have a stay point detected in A{cnt}\")"
   ]
  },
  {
   "cell_type": "markdown",
   "metadata": {},
   "source": [
    "<h4>Find which label does the home location belong to</h4>"
   ]
  },
  {
   "cell_type": "code",
   "execution_count": 8,
   "metadata": {},
   "outputs": [],
   "source": [
    "user_days_clustered = spark.read.parquet(f\"{umni2}/{city}/user_stay_regions.parquet\")\n",
    "max_algos = 3\n",
    "day_hours = [6, 21] ## Day time will be from 6 AM to 9 PM | Night time will be 9:00:01 PM to 5:59:59 AM\n",
    "night_clusters = user_days_clustered.filter(~((user_days_clustered.min_time.between(day_hours[0]*3600, (day_hours[1])*3600))&(user_days_clustered.max_time.between(day_hours[0]*3600, (1+day_hours[1])*3600))))\n",
    "cnt = 0\n",
    "\n",
    "# threshold = (10*60)\n",
    "# stay_regions = night_clusters.filter(night_clusters.stay_time>=threshold)\n",
    "\n",
    "stay_regions = night_clusters\n",
    "\n",
    "home_locs_now = spark.read.parquet(f\"{data_path}homes/D1/A0.parquet\")"
   ]
  },
  {
   "cell_type": "code",
   "execution_count": 9,
   "metadata": {},
   "outputs": [],
   "source": [
    "def haversine_np(lon1, lat1, lon2, lat2):\n",
    "    \"\"\"\n",
    "    Calculate the great circle distance between two points\n",
    "    on the earth (specified in decimal degrees)\n",
    "    All args must be of equal length.    \n",
    "    \"\"\"\n",
    "    lon1, lat1, lon2, lat2 = map(np.radians, [lon1, lat1, lon2, lat2])\n",
    "    dlon = lon2 - lon1\n",
    "    dlat = lat2 - lat1\n",
    "    a = np.sin(dlat/2.0)**2 + np.cos(lat1) * np.cos(lat2) * np.sin(dlon/2.0)**2\n",
    "    c = 2 * np.arcsin(np.sqrt(a))\n",
    "    km = 6371.0088 * c\n",
    "    return (km*1000)"
   ]
  },
  {
   "cell_type": "code",
   "execution_count": 10,
   "metadata": {
    "scrolled": true
   },
   "outputs": [],
   "source": [
    "from pyspark.sql.functions import pandas_udf\n",
    "from pyspark.sql.functions import PandasUDFType  \n",
    "\n",
    "time_threshold = (10*60)\n",
    "group_column = [\"uid\",\"label\"]\n",
    "other_cols = [\"distance\"]\n",
    "schema = stay_regions.select(*group_column).schema\n",
    "schema = schema.add(\"distance\", IntegerType(), True)\n",
    "\n",
    "@pandas_udf(schema, PandasUDFType.GROUPED_MAP)\n",
    "# Input/output are both a pandas.DataFrame\n",
    "def find_distance(pdf):\n",
    "    uid = pdf[\"uid\"].values[0]\n",
    "    label = pdf[\"label\"].values[0]\n",
    "    pdf = pdf[['lon', 'lat','waypoint_x','waypoint_y']].set_index(['lon', 'lat']).apply(pd.Series.explode).reset_index().astype({\"waypoint_x\":\"float32\", \"waypoint_y\":\"float32\"})\n",
    "    pdf[\"distance\"] = haversine_np(pdf[\"lon\"], pdf[\"lat\"], pdf[\"waypoint_x\"], pdf[\"waypoint_y\"])\n",
    "    distance = pdf.distance.min()\n",
    "    return(pd.DataFrame([{\"uid\":uid,\"label\":label,\"distance\":int(distance)}]))"
   ]
  },
  {
   "cell_type": "code",
   "execution_count": 11,
   "metadata": {
    "scrolled": true
   },
   "outputs": [
    {
     "name": "stdout",
     "output_type": "stream",
     "text": [
      "D1\n",
      "A0\n"
     ]
    },
    {
     "name": "stderr",
     "output_type": "stream",
     "text": [
      "/home/umni2/a/umnilab/apps/Anaconda3/lib/python3.8/site-packages/pyspark/sql/pandas/group_ops.py:81: UserWarning: It is preferred to use 'applyInPandas' over this API. This API will be deprecated in the future releases. See SPARK-28264 for more details.\n",
      "  warnings.warn(\n"
     ]
    },
    {
     "name": "stdout",
     "output_type": "stream",
     "text": [
      "CPU times: user 2.75 s, sys: 628 ms, total: 3.38 s\n",
      "Wall time: 8min 42s\n",
      "CPU times: user 67.4 ms, sys: 38.2 ms, total: 106 ms\n",
      "Wall time: 222 ms\n",
      "A1\n",
      "CPU times: user 2.91 s, sys: 313 ms, total: 3.23 s\n",
      "Wall time: 8min 15s\n",
      "CPU times: user 32.8 ms, sys: 27.2 ms, total: 60 ms\n",
      "Wall time: 78.8 ms\n",
      "A2\n",
      "CPU times: user 2.87 s, sys: 242 ms, total: 3.11 s\n",
      "Wall time: 8min 17s\n",
      "CPU times: user 34.1 ms, sys: 27.4 ms, total: 61.6 ms\n",
      "Wall time: 71.7 ms\n",
      "A3\n",
      "CPU times: user 7.29 s, sys: 697 ms, total: 7.98 s\n",
      "Wall time: 15min 31s\n",
      "CPU times: user 72.1 ms, sys: 21.8 ms, total: 93.9 ms\n",
      "Wall time: 124 ms\n"
     ]
    }
   ],
   "source": [
    "max_algos = 4\n",
    "Ds = 1\n",
    "for cnt0 in range(1, Ds+1):\n",
    "    print(f\"D{cnt0}\")\n",
    "    uids_all = spark.read.parquet(f\"{data_path}homes/D{cnt0}/A{cnt}.parquet\")\n",
    "    uids_all = uids_all.select(\"uid\")\n",
    "    for cnt in range(0, max_algos):\n",
    "        print(f\"A{cnt}\")\n",
    "        home_locs_now = spark.read.parquet(f\"{data_path}homes/D{cnt0}/A{cnt}.parquet\")\n",
    "        closest_stay_point = home_locs_now.join(stay_regions,['uid'])\n",
    "        closest_stay_point = closest_stay_point.join(uids_all,['uid'])\n",
    "        closest_stay_point = closest_stay_point.select(\"uid\", \"label\", \"lon\", \"lat\", \"waypoint_x\", \"waypoint_y\")\n",
    "        closest_stay_point = closest_stay_point.groupby([\"uid\", \"label\"]).apply(find_distance)\n",
    "        %time closest_stay_point = closest_stay_point.toPandas()\n",
    "        closest_stay_point = closest_stay_point.loc[closest_stay_point.groupby('uid')[\"distance\"].idxmin()]\n",
    "        %time closest_stay_point.to_parquet(f\"{umni2}/{city}/closest_stay_point_D{cnt0}_A{cnt}.parquet\", index=None)\n",
    "        del closest_stay_point"
   ]
  },
  {
   "cell_type": "code",
   "execution_count": 32,
   "metadata": {},
   "outputs": [
    {
     "data": {
      "text/html": [
       "<div>\n",
       "<style scoped>\n",
       "    .dataframe tbody tr th:only-of-type {\n",
       "        vertical-align: middle;\n",
       "    }\n",
       "\n",
       "    .dataframe tbody tr th {\n",
       "        vertical-align: top;\n",
       "    }\n",
       "\n",
       "    .dataframe thead th {\n",
       "        text-align: right;\n",
       "    }\n",
       "</style>\n",
       "<table border=\"1\" class=\"dataframe\">\n",
       "  <thead>\n",
       "    <tr style=\"text-align: right;\">\n",
       "      <th></th>\n",
       "      <th>uid</th>\n",
       "      <th>lon</th>\n",
       "      <th>lat</th>\n",
       "      <th>used_mean</th>\n",
       "    </tr>\n",
       "  </thead>\n",
       "  <tbody>\n",
       "    <tr>\n",
       "      <th>0</th>\n",
       "      <td>-9222971377845245316</td>\n",
       "      <td>-96.245739</td>\n",
       "      <td>30.606056</td>\n",
       "      <td>False</td>\n",
       "    </tr>\n",
       "    <tr>\n",
       "      <th>1</th>\n",
       "      <td>-9222944396328066021</td>\n",
       "      <td>-95.643270</td>\n",
       "      <td>29.125938</td>\n",
       "      <td>False</td>\n",
       "    </tr>\n",
       "    <tr>\n",
       "      <th>2</th>\n",
       "      <td>-9222856126195983707</td>\n",
       "      <td>-95.442974</td>\n",
       "      <td>29.922300</td>\n",
       "      <td>False</td>\n",
       "    </tr>\n",
       "    <tr>\n",
       "      <th>3</th>\n",
       "      <td>-9221980122035837934</td>\n",
       "      <td>-94.800255</td>\n",
       "      <td>29.297104</td>\n",
       "      <td>True</td>\n",
       "    </tr>\n",
       "    <tr>\n",
       "      <th>4</th>\n",
       "      <td>-9221969650680824269</td>\n",
       "      <td>-95.099637</td>\n",
       "      <td>29.366972</td>\n",
       "      <td>False</td>\n",
       "    </tr>\n",
       "    <tr>\n",
       "      <th>...</th>\n",
       "      <td>...</td>\n",
       "      <td>...</td>\n",
       "      <td>...</td>\n",
       "      <td>...</td>\n",
       "    </tr>\n",
       "    <tr>\n",
       "      <th>126361</th>\n",
       "      <td>9223027328828828804</td>\n",
       "      <td>-95.341393</td>\n",
       "      <td>29.877784</td>\n",
       "      <td>False</td>\n",
       "    </tr>\n",
       "    <tr>\n",
       "      <th>126362</th>\n",
       "      <td>9223143670662552488</td>\n",
       "      <td>-95.425278</td>\n",
       "      <td>29.874372</td>\n",
       "      <td>True</td>\n",
       "    </tr>\n",
       "    <tr>\n",
       "      <th>126363</th>\n",
       "      <td>9223157322526308720</td>\n",
       "      <td>-95.177940</td>\n",
       "      <td>29.700920</td>\n",
       "      <td>False</td>\n",
       "    </tr>\n",
       "    <tr>\n",
       "      <th>126364</th>\n",
       "      <td>9223193005618766063</td>\n",
       "      <td>-95.522709</td>\n",
       "      <td>29.904402</td>\n",
       "      <td>False</td>\n",
       "    </tr>\n",
       "    <tr>\n",
       "      <th>126365</th>\n",
       "      <td>9223223750402389191</td>\n",
       "      <td>-95.715327</td>\n",
       "      <td>29.881134</td>\n",
       "      <td>False</td>\n",
       "    </tr>\n",
       "  </tbody>\n",
       "</table>\n",
       "<p>126366 rows × 4 columns</p>\n",
       "</div>"
      ],
      "text/plain": [
       "                        uid        lon        lat  used_mean\n",
       "0      -9222971377845245316 -96.245739  30.606056      False\n",
       "1      -9222944396328066021 -95.643270  29.125938      False\n",
       "2      -9222856126195983707 -95.442974  29.922300      False\n",
       "3      -9221980122035837934 -94.800255  29.297104       True\n",
       "4      -9221969650680824269 -95.099637  29.366972      False\n",
       "...                     ...        ...        ...        ...\n",
       "126361  9223027328828828804 -95.341393  29.877784      False\n",
       "126362  9223143670662552488 -95.425278  29.874372       True\n",
       "126363  9223157322526308720 -95.177940  29.700920      False\n",
       "126364  9223193005618766063 -95.522709  29.904402      False\n",
       "126365  9223223750402389191 -95.715327  29.881134      False\n",
       "\n",
       "[126366 rows x 4 columns]"
      ]
     },
     "execution_count": 32,
     "metadata": {},
     "output_type": "execute_result"
    }
   ],
   "source": [
    "pd.read_parquet(f\"{data_path}homes/D{1}/A{3}.parquet\").merge(pd.read_parquet(f\"{data_path}homes/D{1}/A{0}.parquet\")[[\"uid\"]], on=\"uid\")"
   ]
  },
  {
   "cell_type": "code",
   "execution_count": 33,
   "metadata": {},
   "outputs": [
    {
     "data": {
      "text/html": [
       "<div>\n",
       "<style scoped>\n",
       "    .dataframe tbody tr th:only-of-type {\n",
       "        vertical-align: middle;\n",
       "    }\n",
       "\n",
       "    .dataframe tbody tr th {\n",
       "        vertical-align: top;\n",
       "    }\n",
       "\n",
       "    .dataframe thead th {\n",
       "        text-align: right;\n",
       "    }\n",
       "</style>\n",
       "<table border=\"1\" class=\"dataframe\">\n",
       "  <thead>\n",
       "    <tr style=\"text-align: right;\">\n",
       "      <th></th>\n",
       "      <th>uid</th>\n",
       "      <th>lon</th>\n",
       "      <th>lat</th>\n",
       "    </tr>\n",
       "  </thead>\n",
       "  <tbody>\n",
       "    <tr>\n",
       "      <th>0</th>\n",
       "      <td>-9222971377845245316</td>\n",
       "      <td>-96.245834</td>\n",
       "      <td>30.605768</td>\n",
       "    </tr>\n",
       "    <tr>\n",
       "      <th>1</th>\n",
       "      <td>-9222944396328066021</td>\n",
       "      <td>-95.566399</td>\n",
       "      <td>29.133593</td>\n",
       "    </tr>\n",
       "    <tr>\n",
       "      <th>2</th>\n",
       "      <td>-9222856126195983707</td>\n",
       "      <td>-95.441185</td>\n",
       "      <td>29.908094</td>\n",
       "    </tr>\n",
       "    <tr>\n",
       "      <th>3</th>\n",
       "      <td>-9222623550564812890</td>\n",
       "      <td>-95.558044</td>\n",
       "      <td>29.894239</td>\n",
       "    </tr>\n",
       "    <tr>\n",
       "      <th>4</th>\n",
       "      <td>-9221980122035837934</td>\n",
       "      <td>-94.801125</td>\n",
       "      <td>29.297121</td>\n",
       "    </tr>\n",
       "    <tr>\n",
       "      <th>...</th>\n",
       "      <td>...</td>\n",
       "      <td>...</td>\n",
       "      <td>...</td>\n",
       "    </tr>\n",
       "    <tr>\n",
       "      <th>147646</th>\n",
       "      <td>9223027328828828804</td>\n",
       "      <td>-95.341896</td>\n",
       "      <td>29.877842</td>\n",
       "    </tr>\n",
       "    <tr>\n",
       "      <th>147647</th>\n",
       "      <td>9223143670662552488</td>\n",
       "      <td>-95.425377</td>\n",
       "      <td>29.874359</td>\n",
       "    </tr>\n",
       "    <tr>\n",
       "      <th>147648</th>\n",
       "      <td>9223157322526308720</td>\n",
       "      <td>-95.176422</td>\n",
       "      <td>29.700665</td>\n",
       "    </tr>\n",
       "    <tr>\n",
       "      <th>147649</th>\n",
       "      <td>9223193005618766063</td>\n",
       "      <td>-95.516846</td>\n",
       "      <td>29.893883</td>\n",
       "    </tr>\n",
       "    <tr>\n",
       "      <th>147650</th>\n",
       "      <td>9223223750402389191</td>\n",
       "      <td>-95.620728</td>\n",
       "      <td>29.848742</td>\n",
       "    </tr>\n",
       "  </tbody>\n",
       "</table>\n",
       "<p>147651 rows × 3 columns</p>\n",
       "</div>"
      ],
      "text/plain": [
       "                        uid        lon        lat\n",
       "0      -9222971377845245316 -96.245834  30.605768\n",
       "1      -9222944396328066021 -95.566399  29.133593\n",
       "2      -9222856126195983707 -95.441185  29.908094\n",
       "3      -9222623550564812890 -95.558044  29.894239\n",
       "4      -9221980122035837934 -94.801125  29.297121\n",
       "...                     ...        ...        ...\n",
       "147646  9223027328828828804 -95.341896  29.877842\n",
       "147647  9223143670662552488 -95.425377  29.874359\n",
       "147648  9223157322526308720 -95.176422  29.700665\n",
       "147649  9223193005618766063 -95.516846  29.893883\n",
       "147650  9223223750402389191 -95.620728  29.848742\n",
       "\n",
       "[147651 rows x 3 columns]"
      ]
     },
     "execution_count": 33,
     "metadata": {},
     "output_type": "execute_result"
    }
   ],
   "source": [
    "pd.read_parquet(f\"{data_path}homes/D{1}/A{0}.parquet\")"
   ]
  },
  {
   "cell_type": "markdown",
   "metadata": {},
   "source": [
    "<h4>Analyze distances</h4>"
   ]
  },
  {
   "cell_type": "code",
   "execution_count": 12,
   "metadata": {
    "scrolled": true
   },
   "outputs": [
    {
     "name": "stdout",
     "output_type": "stream",
     "text": [
      "NOTE: ALL HISTOGRAMS ARE CLIPPED TO 1000 m\n",
      "\n",
      "\n",
      "Percentage of users with distance from closest stay point > 1 Km : 29.22%\n"
     ]
    },
    {
     "data": {
      "image/png": "[encoded data removed]",
      "text/plain": [
       "<Figure size 432x288 with 1 Axes>"
      ]
     },
     "metadata": {
      "needs_background": "light"
     },
     "output_type": "display_data"
    },
    {
     "name": "stdout",
     "output_type": "stream",
     "text": [
      "Percentage of users with distance from closest stay point > 1 Km : 0.26%\n"
     ]
    },
    {
     "data": {
      "image/png": "[encoded data removed]",
      "text/plain": [
       "<Figure size 432x288 with 1 Axes>"
      ]
     },
     "metadata": {
      "needs_background": "light"
     },
     "output_type": "display_data"
    },
    {
     "name": "stdout",
     "output_type": "stream",
     "text": [
      "Percentage of users with distance from closest stay point > 1 Km : 0.26%\n"
     ]
    },
    {
     "data": {
      "image/png": "[encoded data removed]",
      "text/plain": [
       "<Figure size 432x288 with 1 Axes>"
      ]
     },
     "metadata": {
      "needs_background": "light"
     },
     "output_type": "display_data"
    },
    {
     "name": "stdout",
     "output_type": "stream",
     "text": [
      "Percentage of users with distance from closest stay point > 1 Km : 20.72%\n"
     ]
    },
    {
     "data": {
      "image/png": "[encoded data removed]",
      "text/plain": [
       "<Figure size 432x288 with 1 Axes>"
      ]
     },
     "metadata": {
      "needs_background": "light"
     },
     "output_type": "display_data"
    }
   ],
   "source": [
    "print(\"NOTE: ALL HISTOGRAMS ARE CLIPPED TO 1000 m\\n\\n\")\n",
    "max_algos = 4\n",
    "Ds = 1\n",
    "for cnt0 in range(1, Ds+1):\n",
    "    for cnt in range(0, max_algos):\n",
    "        closest_stay_point = pd.read_parquet(f\"{umni2}/{city}/closest_stay_point_D{cnt0}_A{cnt}.parquet\")\n",
    "        ax = plt.hist(np.clip(closest_stay_point.distance.values, 0, 1000), color=\"blue\")\n",
    "        print(f\"Percentage of users with distance from closest stay point > 1 Km : {len(closest_stay_point[closest_stay_point.distance>1000])*100/len(closest_stay_point):0.2f}%\")\n",
    "        plt.xlabel(\"Distance from closest stay point (in meters)\", fontsize=12)\n",
    "        plt.ylabel(\"Number of users\", fontsize=12)\n",
    "        plt.title(f\"Algorithm - A{cnt}\", fontsize=14)\n",
    "        plt.show()"
   ]
  },
  {
   "cell_type": "markdown",
   "metadata": {},
   "source": [
    "<h4>Calculate $M_{3a}$ = Amount of time spent at detected home / Maximum amount of time spent at any place</h4>"
   ]
  },
  {
   "cell_type": "code",
   "execution_count": 13,
   "metadata": {},
   "outputs": [],
   "source": [
    "user_days_clustered = pd.read_parquet(f\"{umni2}/{city}/user_stay_regions.parquet\")\n",
    "day_hours = [6, 21] ## Day time will be from 6 AM to 9 PM | Night time will be 9:00:01 PM to 5:59:59 AM\n",
    "night_time = user_days_clustered[~((user_days_clustered.min_time.between(day_hours[0]*3600, (day_hours[1])*3600))&(user_days_clustered.max_time.between(day_hours[0]*3600, (1+day_hours[1])*3600)))]\n",
    "max_algos = 4\n",
    "time_spent_clusters = night_time.groupby([\"uid\", \"label\"])[\"stay_time\"].sum().reset_index().rename({\"stay_time\":\"time_spent\"}, axis=1)\n",
    "most_time_spent_clusters = time_spent_clusters.loc[time_spent_clusters.groupby('uid')[\"time_spent\"].idxmax()].rename({\"label\":\"max_time_lab\", \"time_spent\":\"max_time_spent\"}, axis=1)"
   ]
  },
  {
   "cell_type": "code",
   "execution_count": 14,
   "metadata": {},
   "outputs": [
    {
     "data": {
      "text/plain": [
       "Text(0, 0.5, 'Number of users')"
      ]
     },
     "execution_count": 14,
     "metadata": {},
     "output_type": "execute_result"
    },
    {
     "data": {
      "image/png": "[encoded data removed]",
      "text/plain": [
       "<Figure size 432x288 with 1 Axes>"
      ]
     },
     "metadata": {
      "needs_background": "light"
     },
     "output_type": "display_data"
    }
   ],
   "source": [
    "plt.hist(np.clip(most_time_spent_clusters.max_time_spent.values/3600, 0, 50), bins=20)\n",
    "plt.xlabel(\"Most time spent at any place (in hours)\", fontsize=12)\n",
    "plt.ylabel(\"Number of users\", fontsize=12)"
   ]
  },
  {
   "cell_type": "code",
   "execution_count": 24,
   "metadata": {
    "scrolled": true
   },
   "outputs": [
    {
     "data": {
      "text/html": [
       "<div>\n",
       "<style scoped>\n",
       "    .dataframe tbody tr th:only-of-type {\n",
       "        vertical-align: middle;\n",
       "    }\n",
       "\n",
       "    .dataframe tbody tr th {\n",
       "        vertical-align: top;\n",
       "    }\n",
       "\n",
       "    .dataframe thead th {\n",
       "        text-align: right;\n",
       "    }\n",
       "</style>\n",
       "<table border=\"1\" class=\"dataframe\">\n",
       "  <thead>\n",
       "    <tr style=\"text-align: right;\">\n",
       "      <th></th>\n",
       "      <th>uid</th>\n",
       "      <th>label</th>\n",
       "      <th>distance</th>\n",
       "    </tr>\n",
       "  </thead>\n",
       "  <tbody>\n",
       "    <tr>\n",
       "      <th>646159</th>\n",
       "      <td>-9223370521388894164</td>\n",
       "      <td>6</td>\n",
       "      <td>0</td>\n",
       "    </tr>\n",
       "    <tr>\n",
       "      <th>1736274</th>\n",
       "      <td>-9223369933014868215</td>\n",
       "      <td>43</td>\n",
       "      <td>0</td>\n",
       "    </tr>\n",
       "    <tr>\n",
       "      <th>2386828</th>\n",
       "      <td>-9223231552768777278</td>\n",
       "      <td>5</td>\n",
       "      <td>0</td>\n",
       "    </tr>\n",
       "    <tr>\n",
       "      <th>532506</th>\n",
       "      <td>-9223219603537293011</td>\n",
       "      <td>1</td>\n",
       "      <td>0</td>\n",
       "    </tr>\n",
       "    <tr>\n",
       "      <th>1261026</th>\n",
       "      <td>-9223149608900581266</td>\n",
       "      <td>2</td>\n",
       "      <td>0</td>\n",
       "    </tr>\n",
       "    <tr>\n",
       "      <th>...</th>\n",
       "      <td>...</td>\n",
       "      <td>...</td>\n",
       "      <td>...</td>\n",
       "    </tr>\n",
       "    <tr>\n",
       "      <th>406372</th>\n",
       "      <td>9223212302993399823</td>\n",
       "      <td>2</td>\n",
       "      <td>14114</td>\n",
       "    </tr>\n",
       "    <tr>\n",
       "      <th>2583327</th>\n",
       "      <td>9223219885371197375</td>\n",
       "      <td>2</td>\n",
       "      <td>12840</td>\n",
       "    </tr>\n",
       "    <tr>\n",
       "      <th>378440</th>\n",
       "      <td>9223223750402389191</td>\n",
       "      <td>3</td>\n",
       "      <td>0</td>\n",
       "    </tr>\n",
       "    <tr>\n",
       "      <th>1825195</th>\n",
       "      <td>9223231490874428247</td>\n",
       "      <td>0</td>\n",
       "      <td>1710</td>\n",
       "    </tr>\n",
       "    <tr>\n",
       "      <th>1878571</th>\n",
       "      <td>9223244117137558856</td>\n",
       "      <td>1</td>\n",
       "      <td>22590</td>\n",
       "    </tr>\n",
       "  </tbody>\n",
       "</table>\n",
       "<p>664474 rows × 3 columns</p>\n",
       "</div>"
      ],
      "text/plain": [
       "                         uid  label  distance\n",
       "646159  -9223370521388894164      6         0\n",
       "1736274 -9223369933014868215     43         0\n",
       "2386828 -9223231552768777278      5         0\n",
       "532506  -9223219603537293011      1         0\n",
       "1261026 -9223149608900581266      2         0\n",
       "...                      ...    ...       ...\n",
       "406372   9223212302993399823      2     14114\n",
       "2583327  9223219885371197375      2     12840\n",
       "378440   9223223750402389191      3         0\n",
       "1825195  9223231490874428247      0      1710\n",
       "1878571  9223244117137558856      1     22590\n",
       "\n",
       "[664474 rows x 3 columns]"
      ]
     },
     "execution_count": 24,
     "metadata": {},
     "output_type": "execute_result"
    }
   ],
   "source": [
    "closest_stay_point"
   ]
  },
  {
   "cell_type": "code",
   "execution_count": 15,
   "metadata": {
    "scrolled": true
   },
   "outputs": [
    {
     "name": "stdout",
     "output_type": "stream",
     "text": [
      "Users having max time spent at a place of 0 minutes = 2\n",
      "Users having max time spent at a place of 0 minutes = 2\n",
      "Users having max time spent at a place of 0 minutes = 2\n",
      "Users having max time spent at a place of 0 minutes = 20770\n"
     ]
    },
    {
     "data": {
      "image/png": "[encoded data removed]",
      "text/plain": [
       "<Figure size 432x288 with 1 Axes>"
      ]
     },
     "metadata": {
      "needs_background": "light"
     },
     "output_type": "display_data"
    }
   ],
   "source": [
    "colors_now = random.sample(colors, max_algos)\n",
    "Ds = 1\n",
    "for cnt0 in range(1, Ds+1):\n",
    "    for cnt in range(0, max_algos):\n",
    "        closest_stay_point = pd.read_parquet(f\"{umni2}/{city}/closest_stay_point_D{cnt0}_A{cnt}.parquet\")\n",
    "        time_spent_home = closest_stay_point.merge(time_spent_clusters, on=[\"uid\", \"label\"])\n",
    "        time_spent_home = time_spent_home.merge(most_time_spent_clusters, on=\"uid\")\n",
    "        time_spent_home[\"Ratio\"] = time_spent_home[\"time_spent\"]/time_spent_home[\"max_time_spent\"]\n",
    "        print(f\"Users having max time spent at a place of 0 minutes = {len(time_spent_home[time_spent_home.Ratio.isnull()])}\")\n",
    "        time_spent_home = time_spent_home.fillna(1)\n",
    "\n",
    "        count, bins_count = np.histogram(time_spent_home.Ratio, bins=100)\n",
    "        pdf = count / sum(count)\n",
    "        cdf = np.cumsum(pdf)\n",
    "        plt.plot(bins_count[1:], cdf, label=r\"$\\bf{\"+f\"A{cnt}\"+\"}$\"+f\" (n={len(time_spent_home)}, $m_3$={1 - integrate.simpson(cdf, bins_count[1:]):0.2f})\", color=colors_now[cnt], linewidth=2)\n",
    "plt.legend()\n",
    "plt.xlabel(\"Ratio (Higher the better)\", fontsize=12)\n",
    "plt.ylabel(\"Proportion of users\", fontsize=12)\n",
    "plt.title(f\"Metric - Time spent at home /\\nmax time spent at any location\", fontsize=14)\n",
    "plt.show()"
   ]
  },
  {
   "cell_type": "code",
   "execution_count": 16,
   "metadata": {
    "scrolled": true
   },
   "outputs": [
    {
     "name": "stdout",
     "output_type": "stream",
     "text": [
      "Users having max time spent at a place of 0 minutes = 2\n",
      "Users having max time spent at a place of 0 minutes = 2\n",
      "Users having max time spent at a place of 0 minutes = 2\n",
      "Users having max time spent at a place of 0 minutes = 20770\n"
     ]
    },
    {
     "data": {
      "image/png": "[encoded data removed]",
      "text/plain": [
       "<Figure size 432x288 with 1 Axes>"
      ]
     },
     "metadata": {
      "needs_background": "light"
     },
     "output_type": "display_data"
    }
   ],
   "source": [
    "Ds = 1\n",
    "for cnt0 in range(1, Ds+1):\n",
    "    for cnt in range(0, max_algos):\n",
    "        closest_stay_point = pd.read_parquet(f\"{umni2}/{city}/closest_stay_point_D{cnt0}_A{cnt}.parquet\")\n",
    "        time_spent_home = closest_stay_point.merge(time_spent_clusters, on=[\"uid\", \"label\"])\n",
    "        time_spent_home = time_spent_home.merge(most_time_spent_clusters, on=\"uid\")\n",
    "        time_spent_home[\"Ratio\"] = time_spent_home[\"time_spent\"]/time_spent_home[\"max_time_spent\"]\n",
    "        print(f\"Users having max time spent at a place of 0 minutes = {len(time_spent_home[time_spent_home.Ratio.isnull()])}\")\n",
    "        time_spent_home = time_spent_home.fillna(1)\n",
    "\n",
    "        count, bins_count = np.histogram(time_spent_home.Ratio, bins=100)\n",
    "        pdf = count / sum(count)\n",
    "        cdf = np.cumsum(pdf)\n",
    "        plt.plot(bins_count[1:], cdf, label=r\"$\\bf{\"+f\"A{cnt}\"+\"}$\"+f\" (n={len(time_spent_home)}, $m_3$={1 - integrate.simpson(cdf, bins_count[1:]):0.2f})\", color=colors_now[cnt], linewidth=2)\n",
    "plt.legend()\n",
    "plt.xlabel(\"Ratio (Higher the better)\", fontsize=12)\n",
    "plt.ylabel(\"Proportion of users\", fontsize=12)\n",
    "plt.title(f\"Metric - Time spent at home /\\nmax time spent at any location\", fontsize=14)\n",
    "plt.ylim(0,0.5)\n",
    "plt.show()"
   ]
  },
  {
   "cell_type": "markdown",
   "metadata": {},
   "source": [
    "<h4>Calculate $M_{3b}$ = Number of times home is visited at night / Number of times any place is visited at night</h4>"
   ]
  },
  {
   "cell_type": "code",
   "execution_count": 17,
   "metadata": {
    "scrolled": true
   },
   "outputs": [],
   "source": [
    "user_days_clustered = pd.read_parquet(f\"{umni2}/{city}/user_stay_regions.parquet\")\n",
    "day_hours = [6, 21] ## Day time will be from 6 AM to 9 PM | Night time will be 9:00:01 PM to 5:59:59 AM\n",
    "night_time = user_days_clustered[~((user_days_clustered.min_time.between(day_hours[0]*3600, (day_hours[1])*3600))&(user_days_clustered.max_time.between(day_hours[0]*3600, (1+day_hours[1])*3600)))]\n",
    "threshold = (10*60)\n",
    "max_algos = 4\n",
    "stay_regions = night_time[(night_time.stay_time>=threshold)]\n",
    "frequency_clusters = stay_regions.groupby([\"uid\", \"label\"])[\"stay_time\"].count().reset_index().rename({\"stay_time\":\"frequency\"}, axis=1)\n",
    "most_frequent_clusters = frequency_clusters.loc[frequency_clusters.groupby('uid')[\"frequency\"].idxmax()].rename({\"label\":\"max_freq_lab\", \"frequency\":\"max_frequency\"}, axis=1)\n",
    "frequency_clusters_all = frequency_clusters.groupby(\"uid\")[\"frequency\"].sum().reset_index().rename({\"frequency\":\"all_detects\"}, axis=1)\n",
    "most_frequent_clusters = most_frequent_clusters.merge(frequency_clusters_all, on=\"uid\")"
   ]
  },
  {
   "cell_type": "code",
   "execution_count": 18,
   "metadata": {},
   "outputs": [
    {
     "data": {
      "text/plain": [
       "Text(0.5, 0, 'Maximum Frequency')"
      ]
     },
     "execution_count": 18,
     "metadata": {},
     "output_type": "execute_result"
    },
    {
     "data": {
      "image/png": "[encoded data removed]",
      "text/plain": [
       "<Figure size 432x288 with 1 Axes>"
      ]
     },
     "metadata": {
      "needs_background": "light"
     },
     "output_type": "display_data"
    }
   ],
   "source": [
    "plt.hist(np.clip(most_frequent_clusters.max_frequency.values, 0, 20), bins=20)\n",
    "plt.xlabel(\"Maximum Frequency\", fontsize=12)"
   ]
  },
  {
   "cell_type": "code",
   "execution_count": 19,
   "metadata": {},
   "outputs": [
    {
     "data": {
      "text/plain": [
       "Text(0.5, 0, 'All stay region detections')"
      ]
     },
     "execution_count": 19,
     "metadata": {},
     "output_type": "execute_result"
    },
    {
     "data": {
      "image/png": "[encoded data removed]",
      "text/plain": [
       "<Figure size 432x288 with 1 Axes>"
      ]
     },
     "metadata": {
      "needs_background": "light"
     },
     "output_type": "display_data"
    }
   ],
   "source": [
    "plt.hist(np.clip(frequency_clusters_all.all_detects.values, 0, 20), bins=20)\n",
    "plt.xlabel(\"All stay region detections\", fontsize=12)"
   ]
  },
  {
   "cell_type": "code",
   "execution_count": 20,
   "metadata": {
    "scrolled": true
   },
   "outputs": [
    {
     "name": "stdout",
     "output_type": "stream",
     "text": [
      "Users with 2 stay region detects and maximum frequency being 1 = 1007\n",
      "Users with 2 stay region detects and maximum frequency being 1 = 1435\n",
      "Users with 2 stay region detects and maximum frequency being 1 = 1499\n",
      "Users with 2 stay region detects and maximum frequency being 1 = 15715\n"
     ]
    },
    {
     "data": {
      "image/png": "[encoded data removed]",
      "text/plain": [
       "<Figure size 432x288 with 1 Axes>"
      ]
     },
     "metadata": {
      "needs_background": "light"
     },
     "output_type": "display_data"
    }
   ],
   "source": [
    "Ds = 1\n",
    "for cnt0 in range(1, Ds+1):\n",
    "    for cnt in range(0, max_algos):\n",
    "        closest_stay_point = pd.read_parquet(f\"{umni2}/{city}/closest_stay_point_D{cnt0}_A{cnt}.parquet\")\n",
    "#         print(len(closest_stay_point))\n",
    "        frequency_home = closest_stay_point.merge(frequency_clusters, on=[\"uid\", \"label\"])\n",
    "#         print(len(frequency_home))\n",
    "        frequency_home = frequency_home.merge(most_frequent_clusters, on=\"uid\")\n",
    "#         print(len(frequency_home))\n",
    "        frequency_home[\"Ratio\"] = frequency_home[\"frequency\"]/frequency_home[\"max_frequency\"]\n",
    "        print(f\"Users with 2 stay region detects and maximum frequency being 1 = {len(frequency_home[(frequency_home.all_detects==2)&(frequency_home.max_frequency==1)])}\")\n",
    "\n",
    "        count, bins_count = np.histogram(frequency_home.Ratio, bins=100)\n",
    "        pdf = count / sum(count)\n",
    "        cdf = np.cumsum(pdf)\n",
    "        plt.plot(bins_count[1:], cdf, label=r\"$\\bf{\"+f\"A{cnt}\"+\"}$\"+f\" (n={len(frequency_home)}, $m_3$={1 - integrate.simpson(cdf, bins_count[1:]):0.2f})\", color=colors_now[cnt], linewidth=2)\n",
    "\n",
    "plt.legend()\n",
    "plt.xlabel(\"Ratio (Higher the better)\", fontsize=12)\n",
    "plt.ylabel(\"Proportion of users\", fontsize=12)\n",
    "plt.title(f\"Metric - Frequency of visits at home /\\nMax frequency of visits at any location\", fontsize=14)\n",
    "plt.show()"
   ]
  },
  {
   "cell_type": "code",
   "execution_count": 21,
   "metadata": {},
   "outputs": [
    {
     "name": "stdout",
     "output_type": "stream",
     "text": [
      "Users with 2 stay region detects and maximum frequency being 1 = 1007\n",
      "Users with 2 stay region detects and maximum frequency being 1 = 1435\n",
      "Users with 2 stay region detects and maximum frequency being 1 = 1499\n",
      "Users with 2 stay region detects and maximum frequency being 1 = 15715\n"
     ]
    },
    {
     "data": {
      "image/png": "[encoded data removed]",
      "text/plain": [
       "<Figure size 432x288 with 1 Axes>"
      ]
     },
     "metadata": {
      "needs_background": "light"
     },
     "output_type": "display_data"
    }
   ],
   "source": [
    "Ds = 1\n",
    "for cnt0 in range(1, Ds+1):\n",
    "    for cnt in range(0, max_algos):\n",
    "        closest_stay_point = pd.read_parquet(f\"{umni2}/{city}/closest_stay_point_D{cnt0}_A{cnt}.parquet\")\n",
    "        frequency_home = closest_stay_point.merge(frequency_clusters, on=[\"uid\", \"label\"])\n",
    "        frequency_home = frequency_home.merge(most_frequent_clusters, on=\"uid\")\n",
    "        frequency_home[\"Ratio\"] = frequency_home[\"frequency\"]/frequency_home[\"max_frequency\"]\n",
    "        print(f\"Users with 2 stay region detects and maximum frequency being 1 = {len(frequency_home[(frequency_home.all_detects==2)&(frequency_home.max_frequency==1)])}\")\n",
    "\n",
    "        count, bins_count = np.histogram(frequency_home.Ratio, bins=100)\n",
    "        pdf = count / sum(count)\n",
    "        cdf = np.cumsum(pdf)\n",
    "        plt.plot(bins_count[1:], cdf, label=r\"$\\bf{\"+f\"A{cnt}\"+\"}$\"+f\" (n={len(frequency_home)}, $m_3$={1 - integrate.simpson(cdf, bins_count[1:]):0.2f})\", color=colors_now[cnt], linewidth=2)\n",
    "\n",
    "plt.legend()\n",
    "plt.xlabel(\"Ratio (Higher the better)\", fontsize=12)\n",
    "plt.ylabel(\"Proportion of users\", fontsize=12)\n",
    "plt.title(f\"Metric - Frequency of visits at home /\\nMax frequency of visits at any location\", fontsize=14)\n",
    "plt.ylim(0,0.15)\n",
    "plt.show()"
   ]
  },
  {
   "cell_type": "code",
   "execution_count": 22,
   "metadata": {},
   "outputs": [
    {
     "name": "stdout",
     "output_type": "stream",
     "text": [
      "1\n",
      "2\n",
      "5\n",
      "10\n",
      "20\n",
      "30\n",
      "60\n",
      "120\n"
     ]
    }
   ],
   "source": [
    "thresholds = [1,2,5,10,20,30,60,120]\n",
    "m3_freq = pd.DataFrame(columns=[\"threshold\", \"algo\", \"m3\"])\n",
    "for t in thresholds:\n",
    "    print(t)\n",
    "    threshold = (t*60)\n",
    "    max_algos = 4\n",
    "    stay_regions = night_time[(night_time.stay_time>=threshold)]\n",
    "    frequency_clusters = stay_regions.groupby([\"uid\", \"label\"])[\"stay_time\"].count().reset_index().rename({\"stay_time\":\"frequency\"}, axis=1)\n",
    "    most_frequent_clusters = frequency_clusters.loc[frequency_clusters.groupby('uid')[\"frequency\"].idxmax()].rename({\"label\":\"max_freq_lab\", \"frequency\":\"max_frequency\"}, axis=1)\n",
    "    frequency_clusters_all = frequency_clusters.groupby(\"uid\")[\"frequency\"].sum().reset_index().rename({\"frequency\":\"all_detects\"}, axis=1)\n",
    "    most_frequent_clusters = most_frequent_clusters.merge(frequency_clusters_all, on=\"uid\")\n",
    "    for cnt0 in range(1, Ds+1):\n",
    "        for cnt in range(0, max_algos):\n",
    "            closest_stay_point = pd.read_parquet(f\"{umni2}/{city}/closest_stay_point_D{cnt0}_A{cnt}.parquet\")\n",
    "            frequency_home = closest_stay_point.merge(frequency_clusters, on=[\"uid\", \"label\"])\n",
    "            frequency_home = frequency_home.merge(most_frequent_clusters, on=\"uid\")\n",
    "            frequency_home[\"Ratio\"] = frequency_home[\"frequency\"]/frequency_home[\"max_frequency\"]\n",
    "            count, bins_count = np.histogram(frequency_home.Ratio, bins=100)\n",
    "            pdf = count / sum(count)\n",
    "            cdf = np.cumsum(pdf)\n",
    "            m_3= 1 - integrate.simpson(cdf, bins_count[1:])\n",
    "            m3_freq = m3_freq.append(pd.DataFrame([{\"threshold\":t, \"algo\":cnt, \"m3\":m_3}]))"
   ]
  },
  {
   "cell_type": "code",
   "execution_count": 23,
   "metadata": {},
   "outputs": [
    {
     "data": {
      "image/png": "[encoded data removed]",
      "text/plain": [
       "<Figure size 1008x360 with 1 Axes>"
      ]
     },
     "metadata": {
      "needs_background": "light"
     },
     "output_type": "display_data"
    }
   ],
   "source": [
    "fig,ax = plt.subplots(figsize=(14,5))\n",
    "col_arr = random.sample(colors, max_algos)\n",
    "m3_freq.pivot(\"threshold\", \"algo\", \"m3\").plot(kind='bar',ax=ax, color=col_arr, width=0.7)\n",
    "plt.legend(fontsize=14, bbox_to_anchor=(1.0, 0.9))\n",
    "plt.xlabel(\"Time threshold for stay region (minutes)\",fontsize=16)\n",
    "plt.ylabel(\"M3 index\",fontsize=16)\n",
    "plt.xticks(fontsize=13,rotation=\"horizontal\")\n",
    "plt.show()"
   ]
  }
 ],
 "metadata": {
  "kernelspec": {
   "display_name": "Python 3 (ipykernel)",
   "language": "python",
   "name": "python3"
  },
  "language_info": {
   "codemirror_mode": {
    "name": "ipython",
    "version": 3
   },
   "file_extension": ".py",
   "mimetype": "text/x-python",
   "name": "python",
   "nbconvert_exporter": "python",
   "pygments_lexer": "ipython3",
   "version": "3.9.7"
  }
 },
 "nbformat": 4,
 "nbformat_minor": 4
}
