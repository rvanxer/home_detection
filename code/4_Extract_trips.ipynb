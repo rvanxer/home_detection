{
 "cells": [
  {
   "cell_type": "markdown",
   "id": "e722c06f-17b6-43df-acbb-403f148d9920",
   "metadata": {},
   "source": [
    "# Setup"
   ]
  },
  {
   "cell_type": "code",
   "execution_count": 1,
   "id": "3b8b058e-2f51-4a00-885a-82ce8e842369",
   "metadata": {
    "tags": []
   },
   "outputs": [
    {
     "name": "stdout",
     "output_type": "stream",
     "text": [
      "/home/umni2/a/umnilab/users/verma99/mk/home_detection/code\n"
     ]
    }
   ],
   "source": [
    "!pwd"
   ]
  },
  {
   "cell_type": "code",
   "execution_count": 2,
   "id": "6ccec6bb-8328-4144-b603-e28fb6a94716",
   "metadata": {
    "tags": []
   },
   "outputs": [],
   "source": [
    "from setup import *"
   ]
  },
  {
   "cell_type": "code",
   "execution_count": 3,
   "id": "9e3bd184-8c89-47dd-b790-686bd013bbdc",
   "metadata": {
    "tags": []
   },
   "outputs": [],
   "source": [
    "import haversine as hs\n",
    "from haversine import haversine_vector as haversine\n",
    "from sklearn.cluster import MeanShift"
   ]
  },
  {
   "cell_type": "code",
   "execution_count": 4,
   "id": "ba6affd6-aee8-42a4-85b1-22332de6f905",
   "metadata": {
    "tags": []
   },
   "outputs": [
    {
     "name": "stderr",
     "output_type": "stream",
     "text": [
      "Setting default log level to \"WARN\".\n",
      "To adjust logging level use sc.setLogLevel(newLevel). For SparkR, use setLogLevel(newLevel).\n"
     ]
    },
    {
     "name": "stdout",
     "output_type": "stream",
     "text": [
      "23/03/29 21:58:20 WARN NativeCodeLoader: Unable to load native-hadoop library for your platform... using builtin-java classes where applicable\n",
      "23/03/29 21:58:20 WARN Utils: Service 'SparkUI' could not bind on port 4040. Attempting port 4041.\n"
     ]
    }
   ],
   "source": [
    "SP.start()"
   ]
  },
  {
   "cell_type": "markdown",
   "id": "97655a52-d669-4558-8478-d21c7d00c0de",
   "metadata": {},
   "source": [
    "## Load regions"
   ]
  },
  {
   "cell_type": "code",
   "execution_count": 5,
   "id": "7514b09b-b023-4913-a542-6912a00b5704",
   "metadata": {
    "tags": []
   },
   "outputs": [],
   "source": [
    "indy = Region.load('Indianapolis', 'Indiana')\n",
    "indy.dates = U.dates('2021-03-01', '2021-03-07')"
   ]
  },
  {
   "cell_type": "code",
   "execution_count": 6,
   "id": "f29f7788-1830-4b08-9499-5b62dce78f2b",
   "metadata": {
    "tags": []
   },
   "outputs": [],
   "source": [
    "aus = Region.load('Austin', 'Texas')\n",
    "aus.dates = U.dates('2021-07-01', '2021-07-07')"
   ]
  },
  {
   "cell_type": "code",
   "execution_count": 7,
   "id": "02b1a50d-c26c-470e-af6b-2e6f89fe5d94",
   "metadata": {
    "tags": []
   },
   "outputs": [],
   "source": [
    "hous = Region.load('Houston', 'Texas')\n",
    "hous.dates = U.dates('2021-07-01', '2021-07-07')"
   ]
  },
  {
   "cell_type": "code",
   "execution_count": 8,
   "id": "87cfe50a-205d-4450-9746-0f6b2a977531",
   "metadata": {
    "tags": []
   },
   "outputs": [],
   "source": [
    "rgns = [indy, aus, hous]"
   ]
  },
  {
   "cell_type": "markdown",
   "id": "efc6452c",
   "metadata": {},
   "source": [
    "## Explore trajectories"
   ]
  },
  {
   "cell_type": "code",
   "execution_count": 9,
   "id": "215fce9d",
   "metadata": {},
   "outputs": [
    {
     "name": "stdout",
     "output_type": "stream",
     "text": [
      "77,834 rows x 5 cols; Memory: 36.8 MiB\n"
     ]
    },
    {
     "data": {
      "text/html": [
       "<div>\n",
       "<style scoped>\n",
       "    .dataframe tbody tr th:only-of-type {\n",
       "        vertical-align: middle;\n",
       "    }\n",
       "\n",
       "    .dataframe tbody tr th {\n",
       "        vertical-align: top;\n",
       "    }\n",
       "\n",
       "    .dataframe thead th {\n",
       "        text-align: right;\n",
       "    }\n",
       "</style>\n",
       "<table border=\"1\" class=\"dataframe\">\n",
       "  <thead>\n",
       "    <tr style=\"text-align: right;\">\n",
       "      <th></th>\n",
       "      <th>uid</th>\n",
       "      <th>lon</th>\n",
       "      <th>lat</th>\n",
       "      <th>ts</th>\n",
       "      <th>error</th>\n",
       "    </tr>\n",
       "  </thead>\n",
       "  <tbody>\n",
       "    <tr>\n",
       "      <th></th>\n",
       "      <td>&lt;int64&gt;</td>\n",
       "      <td>&lt;object&gt;</td>\n",
       "      <td>&lt;object&gt;</td>\n",
       "      <td>&lt;object&gt;</td>\n",
       "      <td>&lt;object&gt;</td>\n",
       "    </tr>\n",
       "    <tr>\n",
       "      <th>8</th>\n",
       "      <td>-9196759001762169042</td>\n",
       "      <td>[-97.55725, -97.55725, -97.55725, -97.55725, -...</td>\n",
       "      <td>[30.52732, 30.52732, 30.52732, 30.52732, 30.52...</td>\n",
       "      <td>[52385.0, 52386.0, 52391.0, 52393.0, 52394.0, ...</td>\n",
       "      <td>[6.0, 6.0, 6.0, 6.0, 6.0, 6.0, 6.0, 6.0, 6.0, ...</td>\n",
       "    </tr>\n",
       "  </tbody>\n",
       "</table>\n",
       "</div>"
      ],
      "text/plain": [
       "                    uid                                                lon  \\\n",
       "                <int64>                                           <object>   \n",
       "8  -9196759001762169042  [-97.55725, -97.55725, -97.55725, -97.55725, -...   \n",
       "\n",
       "                                                 lat  \\\n",
       "                                            <object>   \n",
       "8  [30.52732, 30.52732, 30.52732, 30.52732, 30.52...   \n",
       "\n",
       "                                                  ts  \\\n",
       "                                            <object>   \n",
       "8  [52385.0, 52386.0, 52391.0, 52393.0, 52394.0, ...   \n",
       "\n",
       "                                               error  \n",
       "                                            <object>  \n",
       "8  [6.0, 6.0, 6.0, 6.0, 6.0, 6.0, 6.0, 6.0, 6.0, ...  "
      ]
     },
     "metadata": {},
     "output_type": "display_data"
    }
   ],
   "source": [
    "d1 = (pd.read_parquet(aus.data / 'pings/2021-07-01')\n",
    "      .pipe(lambda df: df[df[LON].apply(len) > 20])).disp()"
   ]
  },
  {
   "cell_type": "code",
   "execution_count": 10,
   "id": "fac96a76",
   "metadata": {},
   "outputs": [],
   "source": [
    "r = d1.sample(random_state=125).iloc[0]"
   ]
  },
  {
   "cell_type": "code",
   "execution_count": 11,
   "id": "63f1a1bd",
   "metadata": {},
   "outputs": [
    {
     "data": {
      "text/plain": [
       "[<matplotlib.lines.Line2D at 0x7f4da6021a00>]"
      ]
     },
     "execution_count": 11,
     "metadata": {},
     "output_type": "execute_result"
    },
    {
     "data": {
      "image/png": "[encoded data removed]",
      "text/plain": [
       "<Figure size 720x600 with 1 Axes>"
      ]
     },
     "metadata": {},
     "output_type": "display_data"
    }
   ],
   "source": [
    "ax = U.plot(size=(6, 5), dpi=120)\n",
    "ax.plot(r.lon, r.lat)\n",
    "# for i in [10,142,143]:\n",
    "#     ax.scatter(r.lon[i], r.lat[i], s=10, color='r')\n",
    "#     ax.text(r.lon[i], r.lat[i], str(i))"
   ]
  },
  {
   "cell_type": "markdown",
   "id": "429927b1-bdb4-4030-901d-ad2dde75d09b",
   "metadata": {},
   "source": [
    "# Prepare trips: Method 1 (old): Clustering"
   ]
  },
  {
   "cell_type": "markdown",
   "id": "4466676f-b72e-44f9-9a8c-ed3ed61aab51",
   "metadata": {},
   "source": [
    "## Parameters"
   ]
  },
  {
   "cell_type": "code",
   "execution_count": 12,
   "id": "2a8933bb-bd8d-42aa-b3ab-252ad825dadd",
   "metadata": {
    "tags": []
   },
   "outputs": [],
   "source": [
    "# minimum time (in seconds) required for a region to be considered stay region\n",
    "min_dwell = 15*60 # 15 minutes\n",
    "# bandwidth parameter for MeanShift clustering\n",
    "cluster_radius = 250 # meters\n",
    "# parameters for MeanShift clustering\n",
    "ms_params = dict(bin_seeding=True, min_bin_freq=1, max_iter=30, cluster_all=False)"
   ]
  },
  {
   "cell_type": "markdown",
   "id": "ce648d2f-b435-4bc1-83da-e86fd6546f3c",
   "metadata": {},
   "source": [
    "## Define methods"
   ]
  },
  {
   "cell_type": "code",
   "execution_count": 13,
   "id": "98821483-a9c4-4744-9517-2c965867f7e6",
   "metadata": {
    "tags": []
   },
   "outputs": [],
   "source": [
    "def dist_m2deg(dist, lat, a=6_371_001, b=6_356_752):\n",
    "    lat = np.deg2rad(lat)\n",
    "    curve_radius = (a * b) ** 2 / (\n",
    "            (a * np.cos(lat)) ** 2 + (b * np.sin(lat)) ** 2) ** 1.5\n",
    "    return float(np.rad2deg(dist / curve_radius))"
   ]
  },
  {
   "cell_type": "code",
   "execution_count": 14,
   "id": "b641dd0d-8924-47c5-aecd-6f1984275274",
   "metadata": {
    "tags": []
   },
   "outputs": [],
   "source": [
    "def udf_segment_trips(lon, lat, ts, min_dwell, radius, **ms_kwargs):\n",
    "    # convert the trajectory's coordinates to long format and sort by time\n",
    "    df = pd.DataFrame({LON: lon, LAT: lat, TS: ts}).sort_values(TS)\n",
    "    # compute kernel bandwidth in degrees from the kernel radius\n",
    "    bandwidth = dist_m2deg(radius, df[LAT].mean())\n",
    "    try:\n",
    "        # create and fit a MeanShift model with the (x, y) coordinate data\n",
    "        model = MeanShift(bandwidth=bandwidth, **ms_kwargs)\n",
    "        with warnings.catch_warnings():\n",
    "            warnings.simplefilter('ignore')\n",
    "            model.fit(df[[LON, LAT]])\n",
    "            # extract the cluster labels and centers\n",
    "            df['label'] = model.labels_\n",
    "            df[['cx', 'cy']] = model.cluster_centers_[df['label']]\n",
    "    except ValueError:\n",
    "        # in case of any error, return an empty table with the expected schema\n",
    "        return []\n",
    "    # redefine the clusters to make sure that temporally distant but\n",
    "    # spatially close points are recognized as different clusters\n",
    "    df['cid'] = (df['label'].diff() != 0).astype('int').cumsum()\n",
    "    # get earliest & latest ping time of each redefined cluster\n",
    "    C = df.groupby('cid')[TS].agg(['first', 'last'])\n",
    "    # label the regions as stay/enroute based on their stay duration (seconds)\n",
    "    C['enroute'] = C['last'] - C['first'] < min_dwell\n",
    "    # join the cluster labels to the ping table\n",
    "    df = df.merge(C['enroute'], on='cid')\n",
    "    # collect ping points (x, y, t) for each cluster (row) in lists\n",
    "    df['xyt'] = list(zip(df[LON], df[LAT], df[TS]))\n",
    "    C = df.groupby(['cid', 'enroute'])['xyt'].agg(list).reset_index()\n",
    "    # set same cluster IDs for consecutive enroute regions\n",
    "    C['rgn_id'] = (((C['cid'] * (1 - C['enroute'].astype(int))).diff() != 0)\n",
    "                   .astype(int).cumsum())\n",
    "    # collect (combine) the points of consecutive enroute regions\n",
    "    C = C.groupby(['rgn_id', 'enroute'])['xyt'].sum().reset_index()\n",
    "    # identify trips & their ping coordinates from the stay/enroute\n",
    "    # region data using the logic used in the Maputo report (p.47)\n",
    "    trip_started = True\n",
    "    trip_num = 0\n",
    "    X, trips = [], []\n",
    "    # for each virtual region (row)\n",
    "    for enroute, xyt in zip(C['enroute'], C['xyt']):\n",
    "        if enroute:  # if this is a non-stay (enroute) region\n",
    "            if not trip_started:\n",
    "                # add all points of the enroute region to the trip\n",
    "                X += xyt\n",
    "        else:  # if this is a stay region\n",
    "            # if region's last point starts a new trip\n",
    "            if trip_started:\n",
    "                trip_started = enroute\n",
    "                # add the last point of this region to the trip\n",
    "                X.append(xyt[-1])\n",
    "            else:  # if this region's first point ends the current trip\n",
    "                # add the first point of this region to the trip\n",
    "                X.append(xyt[0])\n",
    "                # collect the points for this trip\n",
    "                trips.append({'trip_num': trip_num} |\n",
    "                             dict(zip([LON, LAT, TS], list(zip(*X)))))\n",
    "                # create a new trip starting with this region's last point\n",
    "                trip_num += 1\n",
    "                X = [xyt[-1]]\n",
    "    # return the segmented trips for this user-day\n",
    "    return trips\n",
    "\n",
    "# %time x = udf_segment_trips(r.lon, r.lat, r.ts, min_dwell, cluster_radius, **ms_params); x"
   ]
  },
  {
   "cell_type": "markdown",
   "id": "14bcf7ba",
   "metadata": {},
   "source": [
    "## Main"
   ]
  },
  {
   "cell_type": "code",
   "execution_count": 15,
   "id": "32e95480-20d8-4bb3-849e-51b2549ce4e0",
   "metadata": {
    "tags": []
   },
   "outputs": [],
   "source": [
    "def extract_trips_old(rgn, dates=None, min_dwell=min_dwell, \n",
    "                      cluster_radius=cluster_radius,\n",
    "                      ms_params=ms_params):\n",
    "    schema = T.array(mk.spark.schema({\n",
    "        'trip_num': T.int16, LON: T.array(T.float),\n",
    "        LAT: T.array(T.float), TS: T.array(T.float)}))\n",
    "    for date in tqdm(dates or rgn.dates):\n",
    "        U.log(f'started {date}')\n",
    "        df = SP.read_parquet(rgn.data / f'pings/{date}')\n",
    "        # df = df.limit(50)\n",
    "        df = df.select(UID, F.udf(\n",
    "            lambda lon, lat, ts: segment_trips_clustering(\n",
    "                lon, lat, ts, min_dwell, cluster_radius, **ms_params),\n",
    "            schema)(LON, LAT, TS).alias('trips'))\n",
    "        df = df.select(UID, F.explode('trips').alias('trip'))\n",
    "        df = df.select(UID, *[F.col('trip')[x].alias(x) \n",
    "                              for x in ['trip_num', LON, LAT, TS]])\n",
    "        mk.spark.write(df, rgn.data / f'trips/{date}')    "
   ]
  },
  {
   "cell_type": "code",
   "execution_count": 16,
   "id": "9fe8722e",
   "metadata": {},
   "outputs": [],
   "source": [
    "# %time extract_trips_old(indy) # t=???\n",
    "# %time extract_trips_old(aus) # t=???\n",
    "# %time extract_trips_old(hous) # t=???"
   ]
  },
  {
   "cell_type": "markdown",
   "id": "1b49f6ae-2652-42cb-951b-464db55c9155",
   "metadata": {},
   "source": [
    "# Prepare trips: Method 2: Stay point-based\n",
    "Algorithm based on the stay point detection algorithm of Li et al. (2008) (https://doi.org/10.1145/1463434.1463477), as used in Sadeghinasr et al. (2019) (https://doi.org/10.1061/9780784482438.002)."
   ]
  },
  {
   "cell_type": "markdown",
   "id": "3a493851",
   "metadata": {},
   "source": [
    "## Parameters"
   ]
  },
  {
   "cell_type": "code",
   "execution_count": 12,
   "id": "d35ba0d7-a995-411c-bad4-665798dfb50f",
   "metadata": {
    "tags": []
   },
   "outputs": [],
   "source": [
    "dist_thresh = 200 # meters\n",
    "time_thresh = 30 # minutes\n",
    "# min points in a user's all-time trajectory required for trip segmentation\n",
    "min_pts = 10"
   ]
  },
  {
   "cell_type": "markdown",
   "id": "e1b87d91",
   "metadata": {},
   "source": [
    "## Define methods"
   ]
  },
  {
   "cell_type": "code",
   "execution_count": 13,
   "id": "f0868efe",
   "metadata": {
    "tags": []
   },
   "outputs": [],
   "source": [
    "def get_stay_point_trips(x, y, t, dist_thresh=200, time_thresh=30):\n",
    "    \"\"\" Documentation in `mk.trips.get_stay_point_trips()` \"\"\"\n",
    "    trips, cur_trip = [], []\n",
    "    trip_started = False\n",
    "    i = 0\n",
    "    while i < len(x):\n",
    "        j = i + 1\n",
    "        while j < len(x):\n",
    "            dist = float(hs.haversine((y[i], x[i]), (y[j], x[j]), unit='m'))\n",
    "            tdiff = (t[j] - t[i]) / 60\n",
    "            if dist > dist_thresh:\n",
    "                if tdiff > time_thresh:\n",
    "                    coord = [sum(a[i:j])/(j-i) for a in [x, y]]\n",
    "                    if trip_started:\n",
    "                        cur_trip.append((*coord, t[i]))\n",
    "                        trips.append(cur_trip)\n",
    "                        cur_trip = []\n",
    "                        trip_started = False\n",
    "                    if not trip_started:\n",
    "                        trip_started = True\n",
    "                        cur_trip.append((*coord, t[j-1]))\n",
    "                else:\n",
    "                    if trip_started:\n",
    "                        cur_trip.append((x[j], y[j], t[j]))\n",
    "                i = j\n",
    "                break\n",
    "            j += 1\n",
    "        if j == len(x):\n",
    "            if trip_started:\n",
    "                cur_trip.append((x[j-1], y[j-1], t[j-1]))\n",
    "            break\n",
    "    return trips"
   ]
  },
  {
   "cell_type": "markdown",
   "id": "d5a5f597",
   "metadata": {},
   "source": [
    "## Main"
   ]
  },
  {
   "cell_type": "code",
   "execution_count": 14,
   "id": "5f3ead2f-f87f-4890-afed-bf8ac7403139",
   "metadata": {
    "tags": []
   },
   "outputs": [
    {
     "name": "stderr",
     "output_type": "stream",
     "text": [
      "                                                                                \r"
     ]
    },
    {
     "data": {
      "text/plain": [
       "DataFrame[uid: bigint, lon: array<float>, lat: array<float>, ts: array<float>]"
      ]
     },
     "execution_count": 14,
     "metadata": {},
     "output_type": "execute_result"
    }
   ],
   "source": [
    "def extract_trips(rgn, dates=None, dist_thresh=dist_thresh,\n",
    "                  time_thresh=time_thresh, min_pts=min_pts, save=False):\n",
    "    df = []\n",
    "    dates = dates or rgn.dates\n",
    "    for date in dates:\n",
    "        n_days = (date - dates[0]).days\n",
    "        df2 = SP.read_parquet(rgn.data / f'pings/{date}')\n",
    "        def add_day(t): return [t + n_days * 86400 for t in t]\n",
    "        df2 = df2.withColumn(TS, F.udf(add_day, T.array(T.float))(TS))\n",
    "        df.append(df2.select(UID, LON, LAT, TS))\n",
    "    df = reduce(Sdf.union, df)\n",
    "    df = df.groupby(UID).agg(*[F.flatten(F.collect_list(x)).alias(x) \n",
    "                               for x in [LON, LAT, TS]])\n",
    "    df = df.filter(F.size(LON) >= min_pts)\n",
    "    df = df.withColumn('trips', F.udf(\n",
    "        lambda x, y, t: get_stay_point_trips(\n",
    "            x, y, t, dist_thresh, time_thresh), \n",
    "        T.array(T.array(T.array(T.float))))(LON, LAT, TS))\n",
    "    df = df.select(UID, F.explode('trips').alias('trip'))\n",
    "    df = df.select(UID, *[F.udf(lambda x: [y[i] for y in x], \n",
    "                                T.array(T.float))('trip').alias(x) \n",
    "                          for i, x in enumerate([LON, LAT, TS])])\n",
    "    if save:\n",
    "        mk.spark.write(df, rgn.data / f'trips/A3')\n",
    "    return df\n",
    "        \n",
    "x = extract_trips(indy); x"
   ]
  },
  {
   "cell_type": "code",
   "execution_count": 15,
   "id": "bbe66c6b",
   "metadata": {},
   "outputs": [],
   "source": [
    "# %time extract_trips(indy, save=True) # t=1:07\n",
    "# %time extract_trips(aus, save=True) # t=41s\n",
    "# %time extract_trips(hous, save=True) # t=1:56"
   ]
  },
  {
   "cell_type": "markdown",
   "id": "0c17941a-aaee-4c26-97f8-9aea673547cc",
   "metadata": {},
   "source": [
    "## [Temporary] Trips for Xiaowei's work"
   ]
  },
  {
   "cell_type": "code",
   "execution_count": 26,
   "id": "b65a5362-edfb-4250-8207-b66f92b0d528",
   "metadata": {
    "tags": []
   },
   "outputs": [
    {
     "name": "stdout",
     "output_type": "stream",
     "text": [
      "CPU times: user 265 ms, sys: 114 ms, total: 379 ms\n",
      "Wall time: 6.9 s\n"
     ]
    },
    {
     "data": {
      "text/plain": [
       "DataFrame[uid: bigint, lon: array<float>, lat: array<float>, ts: array<float>]"
      ]
     },
     "execution_count": 26,
     "metadata": {},
     "output_type": "execute_result"
    }
   ],
   "source": [
    "def extract_trips_xiaowei(\n",
    "    dates=U.dates('2021-03-01', '2021-03-31'),\n",
    "    minx=-87.029979, miny=40.345157,\n",
    "    maxx=-86.733146, maxy=40.505030,\n",
    "    min_pts=10,\n",
    "    time_thresh=5*60,\n",
    "    dist_thresh=100,\n",
    "    # max_speed=60,\n",
    "):\n",
    "    df = []\n",
    "    for date in dates:\n",
    "        n_days = (date - dates[0]).days\n",
    "        df2 = SP.read_parquet(QUADRANT / (\n",
    "            'Indiana/' + date.strftime('%Y/%m/%d')))\n",
    "        def add_day(t): return [t + n_days * 86400 for t in t]\n",
    "        df2 = df2.withColumn(TS, F.udf(add_day, T.array(T.float))(TS))\n",
    "        df.append(df2.select(UID, LON, LAT, TS))\n",
    "    df = reduce(Sdf.union, df)\n",
    "    df = mk.gps.zip_pings(df, 'pts')\n",
    "    df = df.withColumn('pts', F.udf(lambda pts: list(zip(*[\n",
    "        tuple(p) for p in pts if\n",
    "        minx <= p[0] <= maxx and miny <= p[1] <= maxy\n",
    "    ])), T.array(T.array(T.float)))('pts'))\n",
    "    df = (df.groupby(UID)\n",
    "          .agg(F.flatten(F.collect_list('pts')).alias('pts')))\n",
    "    df = df.filter(F.size('pts') >= min_pts)\n",
    "    df = df.select(UID, *[F.col('pts')[i].alias(x) \n",
    "                          for i, x in enumerate([LON, LAT, TS])])\n",
    "    df = df.withColumn('trips', F.udf(\n",
    "        lambda x, y, t: get_stay_point_trips(\n",
    "            x, y, t, dist_thresh, time_thresh), \n",
    "        T.array(T.array(T.array(T.float))))(LON, LAT, TS))\n",
    "    df = df.select(UID, F.explode('trips').alias('trip'))\n",
    "    df = df.select(UID, *[F.udf(lambda x: [y[i] for y in x], \n",
    "                                T.array(T.float))('trip').alias(x) \n",
    "                          for i, x in enumerate([LON, LAT, TS])])\n",
    "    return df\n",
    "\n",
    "%time x = extract_trips_xiaowei(); x"
   ]
  },
  {
   "cell_type": "raw",
   "id": "c0db68ad-6478-440e-8310-67a6d12d95b2",
   "metadata": {
    "tags": []
   },
   "source": [
    "%time mk.spark.write(extract_trips_xiaowei(), P.data / '_misc/xiaowei_trips') # t=8:42"
   ]
  },
  {
   "cell_type": "raw",
   "id": "1c6e9e3b-e083-4608-b745-be40d0da6e6f",
   "metadata": {
    "tags": []
   },
   "source": [
    "df = (pd.read_parquet(P.data / '_misc/xiaowei_trips')\n",
    "      .rename_axis('trip_id').reset_index())\n",
    "df['pts'] = [list(zip(r.lon, r.lat, r.ts)) for _, r in df.iterrows()]\n",
    "df = df[['trip_id', UID, 'pts']].explode('pts').reset_index(drop=True)\n",
    "df[LON], df[LAT], df[TS] = df.pop('pts').str\n",
    "df.to_parquet(P.data / '_misc/xiaowei_trips.parquet')\n",
    "df.disp(4); pass"
   ]
  },
  {
   "cell_type": "markdown",
   "id": "ca9f7bd7",
   "metadata": {},
   "source": [
    "## Trip summary"
   ]
  },
  {
   "cell_type": "code",
   "execution_count": 21,
   "id": "6921c51b-c22a-45b7-a6ac-8121ad6f32f4",
   "metadata": {},
   "outputs": [],
   "source": [
    "def get_trip_summary_stats(rgn):\n",
    "    df = SP.read_parquet(rgn.data / 'trips/A3')\n",
    "    return dict(\n",
    "        region = rgn.name,\n",
    "        n_trips = df.count(),\n",
    "        n_users = df.select(F.countDistinct(UID)).collect()[0][0],\n",
    "        n_pts = df.select(F.size(LON).alias('n')).select(F.sum('n')).collect()[0][0],\n",
    "        n_unique_pts = (df.select(F.arrays_zip(LON, LAT).alias('xy'))\n",
    "                        .select(F.explode('xy').alias('xy'))\n",
    "                        .select(*[F.col('xy')[x].alias(x) for x in [LON, LAT]])\n",
    "                        .distinct().count()))"
   ]
  },
  {
   "cell_type": "code",
   "execution_count": 22,
   "id": "a10dd319-7788-4bb7-b112-6c9ceee9b33b",
   "metadata": {},
   "outputs": [
    {
     "data": {
      "application/vnd.jupyter.widget-view+json": {
       "model_id": "a66d4a9a625541d1bade3380599c2f46",
       "version_major": 2,
       "version_minor": 0
      },
      "text/plain": [
       "  0%|          | 0/3 [00:00<?, ?it/s]"
      ]
     },
     "metadata": {},
     "output_type": "display_data"
    },
    {
     "name": "stderr",
     "output_type": "stream",
     "text": [
      "                                                                                \r"
     ]
    },
    {
     "data": {
      "text/html": [
       "<div>\n",
       "<style scoped>\n",
       "    .dataframe tbody tr th:only-of-type {\n",
       "        vertical-align: middle;\n",
       "    }\n",
       "\n",
       "    .dataframe tbody tr th {\n",
       "        vertical-align: top;\n",
       "    }\n",
       "\n",
       "    .dataframe thead th {\n",
       "        text-align: right;\n",
       "    }\n",
       "</style>\n",
       "<table border=\"1\" class=\"dataframe\">\n",
       "  <thead>\n",
       "    <tr style=\"text-align: right;\">\n",
       "      <th></th>\n",
       "      <th>region</th>\n",
       "      <th>n_trips</th>\n",
       "      <th>n_users</th>\n",
       "      <th>n_pts</th>\n",
       "      <th>n_unique_pts</th>\n",
       "    </tr>\n",
       "  </thead>\n",
       "  <tbody>\n",
       "    <tr>\n",
       "      <th>0</th>\n",
       "      <td>Indianapolis</td>\n",
       "      <td>2,550,876</td>\n",
       "      <td>237,325</td>\n",
       "      <td>43,441,359</td>\n",
       "      <td>33,346,360</td>\n",
       "    </tr>\n",
       "    <tr>\n",
       "      <th>1</th>\n",
       "      <td>Austin</td>\n",
       "      <td>2,396,958</td>\n",
       "      <td>237,081</td>\n",
       "      <td>15,896,856</td>\n",
       "      <td>6,857,475</td>\n",
       "    </tr>\n",
       "    <tr>\n",
       "      <th>2</th>\n",
       "      <td>Houston</td>\n",
       "      <td>7,822,017</td>\n",
       "      <td>724,966</td>\n",
       "      <td>50,533,012</td>\n",
       "      <td>19,768,066</td>\n",
       "    </tr>\n",
       "  </tbody>\n",
       "</table>\n",
       "</div>"
      ],
      "text/plain": [
       "         region    n_trips  n_users       n_pts n_unique_pts\n",
       "0  Indianapolis  2,550,876  237,325  43,441,359   33,346,360\n",
       "1        Austin  2,396,958  237,081  15,896,856    6,857,475\n",
       "2       Houston  7,822,017  724,966  50,533,012   19,768,066"
      ]
     },
     "execution_count": 22,
     "metadata": {},
     "output_type": "execute_result"
    }
   ],
   "source": [
    "df = Pdf([get_trip_summary_stats(rgn) for rgn in tqdm(rgns)]) # t=10s\n",
    "for col in ['n_trips','n_users','n_pts','n_unique_pts']:\n",
    "    df[col] = df[col].map('{:,}'.format)\n",
    "df"
   ]
  },
  {
   "cell_type": "code",
   "execution_count": 23,
   "id": "3fd1b340-c1b9-4565-a11f-390fe9ab11ca",
   "metadata": {},
   "outputs": [
    {
     "name": "stdout",
     "output_type": "stream",
     "text": [
      "+--------------------+--------------------+--------------------+--------------------+\n",
      "|                 uid|                 lon|                 lat|                  ts|\n",
      "+--------------------+--------------------+--------------------+--------------------+\n",
      "|-9215504294852691831|[-86.392815, -86....|[39.813118, 39.81...|[207233.0, 239011.0]|\n",
      "+--------------------+--------------------+--------------------+--------------------+\n",
      "only showing top 1 row\n",
      "\n"
     ]
    }
   ],
   "source": [
    "indy.trips = SP.read_parquet(indy.data / 'trips/A3').disp()"
   ]
  },
  {
   "cell_type": "code",
   "execution_count": 24,
   "id": "51635977-97a3-4bc6-9340-cfd6ec2676d8",
   "metadata": {},
   "outputs": [
    {
     "name": "stderr",
     "output_type": "stream",
     "text": [
      "                                                                                \r"
     ]
    }
   ],
   "source": [
    "df = (indy.trips.select(UID, F.element_at(LON, 1).alias('src_x'),\n",
    "                        F.element_at(LAT, 1).alias('src_y'),\n",
    "                        F.element_at(LON, -1).alias('trg_x'),\n",
    "                        F.element_at(LAT, -1).alias('trg_y'))\n",
    "      .toPandas())\n",
    "# df = mk.geo.pdf2gdf()"
   ]
  },
  {
   "cell_type": "code",
   "execution_count": 25,
   "id": "da9bbd2d-ae9d-479a-902a-e8ca5938ec42",
   "metadata": {},
   "outputs": [
    {
     "name": "stdout",
     "output_type": "stream",
     "text": [
      "5,101,752 rows x 5 cols; Memory: 160.6 MiB; CRS: EPSG:4326\n"
     ]
    },
    {
     "data": {
      "text/html": [
       "<div>\n",
       "<style scoped>\n",
       "    .dataframe tbody tr th:only-of-type {\n",
       "        vertical-align: middle;\n",
       "    }\n",
       "\n",
       "    .dataframe tbody tr th {\n",
       "        vertical-align: top;\n",
       "    }\n",
       "\n",
       "    .dataframe thead th {\n",
       "        text-align: right;\n",
       "    }\n",
       "</style>\n",
       "<table border=\"1\" class=\"dataframe\">\n",
       "  <thead>\n",
       "    <tr style=\"text-align: right;\">\n",
       "      <th></th>\n",
       "      <th>tid</th>\n",
       "      <th>lon</th>\n",
       "      <th>lat</th>\n",
       "      <th>is_src</th>\n",
       "      <th>geometry</th>\n",
       "    </tr>\n",
       "  </thead>\n",
       "  <tbody>\n",
       "    <tr>\n",
       "      <th></th>\n",
       "      <td>&lt;int64&gt;</td>\n",
       "      <td>&lt;float32&gt;</td>\n",
       "      <td>&lt;float32&gt;</td>\n",
       "      <td>&lt;bool&gt;</td>\n",
       "      <td>&lt;geometry&gt;</td>\n",
       "    </tr>\n",
       "    <tr>\n",
       "      <th>0</th>\n",
       "      <td>0</td>\n",
       "      <td>-86.392815</td>\n",
       "      <td>39.813118</td>\n",
       "      <td>True</td>\n",
       "      <td>POINT (-86.392815 39.813118)</td>\n",
       "    </tr>\n",
       "  </tbody>\n",
       "</table>\n",
       "</div>"
      ],
      "text/plain": [
       "       tid        lon        lat  is_src                      geometry\n",
       "   <int64>  <float32>  <float32>  <bool>                    <geometry>\n",
       "0        0 -86.392815  39.813118    True  POINT (-86.392815 39.813118)"
      ]
     },
     "metadata": {},
     "output_type": "display_data"
    }
   ],
   "source": [
    "trips = mk.geo.pdf2gdf(pd.concat([\n",
    "    df.rename(columns={'src_x':LON, 'src_y':LAT})[[LON, LAT]].assign(is_src=True).rename_axis('tid').reset_index(),\n",
    "    df.rename(columns={'trg_x':LON, 'trg_y':LAT})[[LON, LAT]].assign(is_src=False).rename_axis('tid').reset_index()\n",
    "]), crs=CRS_DEG).disp()"
   ]
  },
  {
   "cell_type": "code",
   "execution_count": 26,
   "id": "248f9775-534f-45fd-948a-6136c4285cf2",
   "metadata": {},
   "outputs": [
    {
     "data": {
      "text/html": [
       "<div>\n",
       "<style scoped>\n",
       "    .dataframe tbody tr th:only-of-type {\n",
       "        vertical-align: middle;\n",
       "    }\n",
       "\n",
       "    .dataframe tbody tr th {\n",
       "        vertical-align: top;\n",
       "    }\n",
       "\n",
       "    .dataframe thead th {\n",
       "        text-align: right;\n",
       "    }\n",
       "</style>\n",
       "<table border=\"1\" class=\"dataframe\">\n",
       "  <thead>\n",
       "    <tr style=\"text-align: right;\">\n",
       "      <th></th>\n",
       "      <th>tid</th>\n",
       "      <th>lon</th>\n",
       "      <th>lat</th>\n",
       "      <th>is_src</th>\n",
       "      <th>geometry</th>\n",
       "      <th>index_right</th>\n",
       "      <th>geoid</th>\n",
       "      <th>county</th>\n",
       "      <th>aland</th>\n",
       "      <th>awater</th>\n",
       "      <th>popu</th>\n",
       "      <th>hh</th>\n",
       "      <th>age_minor</th>\n",
       "      <th>age_adult</th>\n",
       "      <th>age_senior</th>\n",
       "      <th>age_median</th>\n",
       "      <th>sex_female</th>\n",
       "      <th>sex_male</th>\n",
       "      <th>race_white</th>\n",
       "      <th>race_black</th>\n",
       "      <th>edu_eligible</th>\n",
       "      <th>edu_bachelors</th>\n",
       "      <th>employ_total</th>\n",
       "      <th>employ_in_LF</th>\n",
       "      <th>employ_not_in_LF</th>\n",
       "      <th>inc_total</th>\n",
       "      <th>inc_avg</th>\n",
       "      <th>inc_total_hh</th>\n",
       "      <th>inc_median</th>\n",
       "      <th>pop_poor</th>\n",
       "      <th>pop_nonpoor</th>\n",
       "      <th>hh_poor</th>\n",
       "      <th>hh_nonpoor</th>\n",
       "      <th>cm_car</th>\n",
       "      <th>cm_pool</th>\n",
       "      <th>cm_pt</th>\n",
       "      <th>cm_bus</th>\n",
       "      <th>cm_subway</th>\n",
       "      <th>cm_taxi</th>\n",
       "      <th>cm_bike</th>\n",
       "      <th>cm_walk</th>\n",
       "      <th>cm_wfm</th>\n",
       "      <th>pop_density</th>\n",
       "    </tr>\n",
       "  </thead>\n",
       "  <tbody>\n",
       "    <tr>\n",
       "      <th>0</th>\n",
       "      <td>0</td>\n",
       "      <td>-86.392815</td>\n",
       "      <td>39.813118</td>\n",
       "      <td>True</td>\n",
       "      <td>POINT (-86.39281 39.81312)</td>\n",
       "      <td>770</td>\n",
       "      <td>180632101051</td>\n",
       "      <td>Hendricks</td>\n",
       "      <td>3930331</td>\n",
       "      <td>33619</td>\n",
       "      <td>3242.0</td>\n",
       "      <td>1053.0</td>\n",
       "      <td>783.0</td>\n",
       "      <td>1811.0</td>\n",
       "      <td>463.0</td>\n",
       "      <td>37.3</td>\n",
       "      <td>1627.0</td>\n",
       "      <td>1615.0</td>\n",
       "      <td>2664.0</td>\n",
       "      <td>429.0</td>\n",
       "      <td>2128.0</td>\n",
       "      <td>967.0</td>\n",
       "      <td>1756.0</td>\n",
       "      <td>1756.0</td>\n",
       "      <td>642.0</td>\n",
       "      <td>106652900.0</td>\n",
       "      <td>32897.0</td>\n",
       "      <td>106785300.0</td>\n",
       "      <td>92264.0</td>\n",
       "      <td>None</td>\n",
       "      <td>None</td>\n",
       "      <td>65.0</td>\n",
       "      <td>988.0</td>\n",
       "      <td>1256.0</td>\n",
       "      <td>162.0</td>\n",
       "      <td>0.0</td>\n",
       "      <td>0.0</td>\n",
       "      <td>0.0</td>\n",
       "      <td>0.0</td>\n",
       "      <td>0.0</td>\n",
       "      <td>0.0</td>\n",
       "      <td>1418.0</td>\n",
       "      <td>2136.395498</td>\n",
       "    </tr>\n",
       "    <tr>\n",
       "      <th>1</th>\n",
       "      <td>1</td>\n",
       "      <td>-86.389572</td>\n",
       "      <td>39.813118</td>\n",
       "      <td>True</td>\n",
       "      <td>POINT (-86.38957 39.81312)</td>\n",
       "      <td>770</td>\n",
       "      <td>180632101051</td>\n",
       "      <td>Hendricks</td>\n",
       "      <td>3930331</td>\n",
       "      <td>33619</td>\n",
       "      <td>3242.0</td>\n",
       "      <td>1053.0</td>\n",
       "      <td>783.0</td>\n",
       "      <td>1811.0</td>\n",
       "      <td>463.0</td>\n",
       "      <td>37.3</td>\n",
       "      <td>1627.0</td>\n",
       "      <td>1615.0</td>\n",
       "      <td>2664.0</td>\n",
       "      <td>429.0</td>\n",
       "      <td>2128.0</td>\n",
       "      <td>967.0</td>\n",
       "      <td>1756.0</td>\n",
       "      <td>1756.0</td>\n",
       "      <td>642.0</td>\n",
       "      <td>106652900.0</td>\n",
       "      <td>32897.0</td>\n",
       "      <td>106785300.0</td>\n",
       "      <td>92264.0</td>\n",
       "      <td>None</td>\n",
       "      <td>None</td>\n",
       "      <td>65.0</td>\n",
       "      <td>988.0</td>\n",
       "      <td>1256.0</td>\n",
       "      <td>162.0</td>\n",
       "      <td>0.0</td>\n",
       "      <td>0.0</td>\n",
       "      <td>0.0</td>\n",
       "      <td>0.0</td>\n",
       "      <td>0.0</td>\n",
       "      <td>0.0</td>\n",
       "      <td>1418.0</td>\n",
       "      <td>2136.395498</td>\n",
       "    </tr>\n",
       "    <tr>\n",
       "      <th>743</th>\n",
       "      <td>743</td>\n",
       "      <td>-86.397652</td>\n",
       "      <td>39.809387</td>\n",
       "      <td>True</td>\n",
       "      <td>POINT (-86.39765 39.80939)</td>\n",
       "      <td>770</td>\n",
       "      <td>180632101051</td>\n",
       "      <td>Hendricks</td>\n",
       "      <td>3930331</td>\n",
       "      <td>33619</td>\n",
       "      <td>3242.0</td>\n",
       "      <td>1053.0</td>\n",
       "      <td>783.0</td>\n",
       "      <td>1811.0</td>\n",
       "      <td>463.0</td>\n",
       "      <td>37.3</td>\n",
       "      <td>1627.0</td>\n",
       "      <td>1615.0</td>\n",
       "      <td>2664.0</td>\n",
       "      <td>429.0</td>\n",
       "      <td>2128.0</td>\n",
       "      <td>967.0</td>\n",
       "      <td>1756.0</td>\n",
       "      <td>1756.0</td>\n",
       "      <td>642.0</td>\n",
       "      <td>106652900.0</td>\n",
       "      <td>32897.0</td>\n",
       "      <td>106785300.0</td>\n",
       "      <td>92264.0</td>\n",
       "      <td>None</td>\n",
       "      <td>None</td>\n",
       "      <td>65.0</td>\n",
       "      <td>988.0</td>\n",
       "      <td>1256.0</td>\n",
       "      <td>162.0</td>\n",
       "      <td>0.0</td>\n",
       "      <td>0.0</td>\n",
       "      <td>0.0</td>\n",
       "      <td>0.0</td>\n",
       "      <td>0.0</td>\n",
       "      <td>0.0</td>\n",
       "      <td>1418.0</td>\n",
       "      <td>2136.395498</td>\n",
       "    </tr>\n",
       "    <tr>\n",
       "      <th>984</th>\n",
       "      <td>984</td>\n",
       "      <td>-86.396248</td>\n",
       "      <td>39.808994</td>\n",
       "      <td>True</td>\n",
       "      <td>POINT (-86.39625 39.80899)</td>\n",
       "      <td>770</td>\n",
       "      <td>180632101051</td>\n",
       "      <td>Hendricks</td>\n",
       "      <td>3930331</td>\n",
       "      <td>33619</td>\n",
       "      <td>3242.0</td>\n",
       "      <td>1053.0</td>\n",
       "      <td>783.0</td>\n",
       "      <td>1811.0</td>\n",
       "      <td>463.0</td>\n",
       "      <td>37.3</td>\n",
       "      <td>1627.0</td>\n",
       "      <td>1615.0</td>\n",
       "      <td>2664.0</td>\n",
       "      <td>429.0</td>\n",
       "      <td>2128.0</td>\n",
       "      <td>967.0</td>\n",
       "      <td>1756.0</td>\n",
       "      <td>1756.0</td>\n",
       "      <td>642.0</td>\n",
       "      <td>106652900.0</td>\n",
       "      <td>32897.0</td>\n",
       "      <td>106785300.0</td>\n",
       "      <td>92264.0</td>\n",
       "      <td>None</td>\n",
       "      <td>None</td>\n",
       "      <td>65.0</td>\n",
       "      <td>988.0</td>\n",
       "      <td>1256.0</td>\n",
       "      <td>162.0</td>\n",
       "      <td>0.0</td>\n",
       "      <td>0.0</td>\n",
       "      <td>0.0</td>\n",
       "      <td>0.0</td>\n",
       "      <td>0.0</td>\n",
       "      <td>0.0</td>\n",
       "      <td>1418.0</td>\n",
       "      <td>2136.395498</td>\n",
       "    </tr>\n",
       "    <tr>\n",
       "      <th>2286</th>\n",
       "      <td>2286</td>\n",
       "      <td>-86.395920</td>\n",
       "      <td>39.807693</td>\n",
       "      <td>True</td>\n",
       "      <td>POINT (-86.39592 39.80769)</td>\n",
       "      <td>770</td>\n",
       "      <td>180632101051</td>\n",
       "      <td>Hendricks</td>\n",
       "      <td>3930331</td>\n",
       "      <td>33619</td>\n",
       "      <td>3242.0</td>\n",
       "      <td>1053.0</td>\n",
       "      <td>783.0</td>\n",
       "      <td>1811.0</td>\n",
       "      <td>463.0</td>\n",
       "      <td>37.3</td>\n",
       "      <td>1627.0</td>\n",
       "      <td>1615.0</td>\n",
       "      <td>2664.0</td>\n",
       "      <td>429.0</td>\n",
       "      <td>2128.0</td>\n",
       "      <td>967.0</td>\n",
       "      <td>1756.0</td>\n",
       "      <td>1756.0</td>\n",
       "      <td>642.0</td>\n",
       "      <td>106652900.0</td>\n",
       "      <td>32897.0</td>\n",
       "      <td>106785300.0</td>\n",
       "      <td>92264.0</td>\n",
       "      <td>None</td>\n",
       "      <td>None</td>\n",
       "      <td>65.0</td>\n",
       "      <td>988.0</td>\n",
       "      <td>1256.0</td>\n",
       "      <td>162.0</td>\n",
       "      <td>0.0</td>\n",
       "      <td>0.0</td>\n",
       "      <td>0.0</td>\n",
       "      <td>0.0</td>\n",
       "      <td>0.0</td>\n",
       "      <td>0.0</td>\n",
       "      <td>1418.0</td>\n",
       "      <td>2136.395498</td>\n",
       "    </tr>\n",
       "    <tr>\n",
       "      <th>...</th>\n",
       "      <td>...</td>\n",
       "      <td>...</td>\n",
       "      <td>...</td>\n",
       "      <td>...</td>\n",
       "      <td>...</td>\n",
       "      <td>...</td>\n",
       "      <td>...</td>\n",
       "      <td>...</td>\n",
       "      <td>...</td>\n",
       "      <td>...</td>\n",
       "      <td>...</td>\n",
       "      <td>...</td>\n",
       "      <td>...</td>\n",
       "      <td>...</td>\n",
       "      <td>...</td>\n",
       "      <td>...</td>\n",
       "      <td>...</td>\n",
       "      <td>...</td>\n",
       "      <td>...</td>\n",
       "      <td>...</td>\n",
       "      <td>...</td>\n",
       "      <td>...</td>\n",
       "      <td>...</td>\n",
       "      <td>...</td>\n",
       "      <td>...</td>\n",
       "      <td>...</td>\n",
       "      <td>...</td>\n",
       "      <td>...</td>\n",
       "      <td>...</td>\n",
       "      <td>...</td>\n",
       "      <td>...</td>\n",
       "      <td>...</td>\n",
       "      <td>...</td>\n",
       "      <td>...</td>\n",
       "      <td>...</td>\n",
       "      <td>...</td>\n",
       "      <td>...</td>\n",
       "      <td>...</td>\n",
       "      <td>...</td>\n",
       "      <td>...</td>\n",
       "      <td>...</td>\n",
       "      <td>...</td>\n",
       "      <td>...</td>\n",
       "    </tr>\n",
       "    <tr>\n",
       "      <th>2485633</th>\n",
       "      <td>2485633</td>\n",
       "      <td>-86.127434</td>\n",
       "      <td>39.780357</td>\n",
       "      <td>False</td>\n",
       "      <td>POINT (-86.12743 39.78036)</td>\n",
       "      <td>97</td>\n",
       "      <td>180973545002</td>\n",
       "      <td>Marion</td>\n",
       "      <td>324984</td>\n",
       "      <td>0</td>\n",
       "      <td>808.0</td>\n",
       "      <td>361.0</td>\n",
       "      <td>163.0</td>\n",
       "      <td>512.0</td>\n",
       "      <td>93.0</td>\n",
       "      <td>37.3</td>\n",
       "      <td>385.0</td>\n",
       "      <td>423.0</td>\n",
       "      <td>698.0</td>\n",
       "      <td>21.0</td>\n",
       "      <td>596.0</td>\n",
       "      <td>268.0</td>\n",
       "      <td>426.0</td>\n",
       "      <td>479.0</td>\n",
       "      <td>151.0</td>\n",
       "      <td>28790100.0</td>\n",
       "      <td>35631.0</td>\n",
       "      <td>28815600.0</td>\n",
       "      <td>56875.0</td>\n",
       "      <td>None</td>\n",
       "      <td>None</td>\n",
       "      <td>52.0</td>\n",
       "      <td>309.0</td>\n",
       "      <td>343.0</td>\n",
       "      <td>19.0</td>\n",
       "      <td>19.0</td>\n",
       "      <td>19.0</td>\n",
       "      <td>0.0</td>\n",
       "      <td>6.0</td>\n",
       "      <td>6.0</td>\n",
       "      <td>0.0</td>\n",
       "      <td>362.0</td>\n",
       "      <td>6439.425919</td>\n",
       "    </tr>\n",
       "    <tr>\n",
       "      <th>2485634</th>\n",
       "      <td>2485634</td>\n",
       "      <td>-86.127434</td>\n",
       "      <td>39.780354</td>\n",
       "      <td>False</td>\n",
       "      <td>POINT (-86.12743 39.78035)</td>\n",
       "      <td>97</td>\n",
       "      <td>180973545002</td>\n",
       "      <td>Marion</td>\n",
       "      <td>324984</td>\n",
       "      <td>0</td>\n",
       "      <td>808.0</td>\n",
       "      <td>361.0</td>\n",
       "      <td>163.0</td>\n",
       "      <td>512.0</td>\n",
       "      <td>93.0</td>\n",
       "      <td>37.3</td>\n",
       "      <td>385.0</td>\n",
       "      <td>423.0</td>\n",
       "      <td>698.0</td>\n",
       "      <td>21.0</td>\n",
       "      <td>596.0</td>\n",
       "      <td>268.0</td>\n",
       "      <td>426.0</td>\n",
       "      <td>479.0</td>\n",
       "      <td>151.0</td>\n",
       "      <td>28790100.0</td>\n",
       "      <td>35631.0</td>\n",
       "      <td>28815600.0</td>\n",
       "      <td>56875.0</td>\n",
       "      <td>None</td>\n",
       "      <td>None</td>\n",
       "      <td>52.0</td>\n",
       "      <td>309.0</td>\n",
       "      <td>343.0</td>\n",
       "      <td>19.0</td>\n",
       "      <td>19.0</td>\n",
       "      <td>19.0</td>\n",
       "      <td>0.0</td>\n",
       "      <td>6.0</td>\n",
       "      <td>6.0</td>\n",
       "      <td>0.0</td>\n",
       "      <td>362.0</td>\n",
       "      <td>6439.425919</td>\n",
       "    </tr>\n",
       "    <tr>\n",
       "      <th>2485635</th>\n",
       "      <td>2485635</td>\n",
       "      <td>-86.127434</td>\n",
       "      <td>39.780354</td>\n",
       "      <td>False</td>\n",
       "      <td>POINT (-86.12743 39.78035)</td>\n",
       "      <td>97</td>\n",
       "      <td>180973545002</td>\n",
       "      <td>Marion</td>\n",
       "      <td>324984</td>\n",
       "      <td>0</td>\n",
       "      <td>808.0</td>\n",
       "      <td>361.0</td>\n",
       "      <td>163.0</td>\n",
       "      <td>512.0</td>\n",
       "      <td>93.0</td>\n",
       "      <td>37.3</td>\n",
       "      <td>385.0</td>\n",
       "      <td>423.0</td>\n",
       "      <td>698.0</td>\n",
       "      <td>21.0</td>\n",
       "      <td>596.0</td>\n",
       "      <td>268.0</td>\n",
       "      <td>426.0</td>\n",
       "      <td>479.0</td>\n",
       "      <td>151.0</td>\n",
       "      <td>28790100.0</td>\n",
       "      <td>35631.0</td>\n",
       "      <td>28815600.0</td>\n",
       "      <td>56875.0</td>\n",
       "      <td>None</td>\n",
       "      <td>None</td>\n",
       "      <td>52.0</td>\n",
       "      <td>309.0</td>\n",
       "      <td>343.0</td>\n",
       "      <td>19.0</td>\n",
       "      <td>19.0</td>\n",
       "      <td>19.0</td>\n",
       "      <td>0.0</td>\n",
       "      <td>6.0</td>\n",
       "      <td>6.0</td>\n",
       "      <td>0.0</td>\n",
       "      <td>362.0</td>\n",
       "      <td>6439.425919</td>\n",
       "    </tr>\n",
       "    <tr>\n",
       "      <th>2485636</th>\n",
       "      <td>2485636</td>\n",
       "      <td>-86.127434</td>\n",
       "      <td>39.780354</td>\n",
       "      <td>False</td>\n",
       "      <td>POINT (-86.12743 39.78035)</td>\n",
       "      <td>97</td>\n",
       "      <td>180973545002</td>\n",
       "      <td>Marion</td>\n",
       "      <td>324984</td>\n",
       "      <td>0</td>\n",
       "      <td>808.0</td>\n",
       "      <td>361.0</td>\n",
       "      <td>163.0</td>\n",
       "      <td>512.0</td>\n",
       "      <td>93.0</td>\n",
       "      <td>37.3</td>\n",
       "      <td>385.0</td>\n",
       "      <td>423.0</td>\n",
       "      <td>698.0</td>\n",
       "      <td>21.0</td>\n",
       "      <td>596.0</td>\n",
       "      <td>268.0</td>\n",
       "      <td>426.0</td>\n",
       "      <td>479.0</td>\n",
       "      <td>151.0</td>\n",
       "      <td>28790100.0</td>\n",
       "      <td>35631.0</td>\n",
       "      <td>28815600.0</td>\n",
       "      <td>56875.0</td>\n",
       "      <td>None</td>\n",
       "      <td>None</td>\n",
       "      <td>52.0</td>\n",
       "      <td>309.0</td>\n",
       "      <td>343.0</td>\n",
       "      <td>19.0</td>\n",
       "      <td>19.0</td>\n",
       "      <td>19.0</td>\n",
       "      <td>0.0</td>\n",
       "      <td>6.0</td>\n",
       "      <td>6.0</td>\n",
       "      <td>0.0</td>\n",
       "      <td>362.0</td>\n",
       "      <td>6439.425919</td>\n",
       "    </tr>\n",
       "    <tr>\n",
       "      <th>2485637</th>\n",
       "      <td>2485637</td>\n",
       "      <td>-86.127434</td>\n",
       "      <td>39.780354</td>\n",
       "      <td>False</td>\n",
       "      <td>POINT (-86.12743 39.78035)</td>\n",
       "      <td>97</td>\n",
       "      <td>180973545002</td>\n",
       "      <td>Marion</td>\n",
       "      <td>324984</td>\n",
       "      <td>0</td>\n",
       "      <td>808.0</td>\n",
       "      <td>361.0</td>\n",
       "      <td>163.0</td>\n",
       "      <td>512.0</td>\n",
       "      <td>93.0</td>\n",
       "      <td>37.3</td>\n",
       "      <td>385.0</td>\n",
       "      <td>423.0</td>\n",
       "      <td>698.0</td>\n",
       "      <td>21.0</td>\n",
       "      <td>596.0</td>\n",
       "      <td>268.0</td>\n",
       "      <td>426.0</td>\n",
       "      <td>479.0</td>\n",
       "      <td>151.0</td>\n",
       "      <td>28790100.0</td>\n",
       "      <td>35631.0</td>\n",
       "      <td>28815600.0</td>\n",
       "      <td>56875.0</td>\n",
       "      <td>None</td>\n",
       "      <td>None</td>\n",
       "      <td>52.0</td>\n",
       "      <td>309.0</td>\n",
       "      <td>343.0</td>\n",
       "      <td>19.0</td>\n",
       "      <td>19.0</td>\n",
       "      <td>19.0</td>\n",
       "      <td>0.0</td>\n",
       "      <td>6.0</td>\n",
       "      <td>6.0</td>\n",
       "      <td>0.0</td>\n",
       "      <td>362.0</td>\n",
       "      <td>6439.425919</td>\n",
       "    </tr>\n",
       "  </tbody>\n",
       "</table>\n",
       "<p>4900931 rows × 43 columns</p>\n",
       "</div>"
      ],
      "text/plain": [
       "             tid        lon        lat  is_src                    geometry  \\\n",
       "0              0 -86.392815  39.813118    True  POINT (-86.39281 39.81312)   \n",
       "1              1 -86.389572  39.813118    True  POINT (-86.38957 39.81312)   \n",
       "743          743 -86.397652  39.809387    True  POINT (-86.39765 39.80939)   \n",
       "984          984 -86.396248  39.808994    True  POINT (-86.39625 39.80899)   \n",
       "2286        2286 -86.395920  39.807693    True  POINT (-86.39592 39.80769)   \n",
       "...          ...        ...        ...     ...                         ...   \n",
       "2485633  2485633 -86.127434  39.780357   False  POINT (-86.12743 39.78036)   \n",
       "2485634  2485634 -86.127434  39.780354   False  POINT (-86.12743 39.78035)   \n",
       "2485635  2485635 -86.127434  39.780354   False  POINT (-86.12743 39.78035)   \n",
       "2485636  2485636 -86.127434  39.780354   False  POINT (-86.12743 39.78035)   \n",
       "2485637  2485637 -86.127434  39.780354   False  POINT (-86.12743 39.78035)   \n",
       "\n",
       "         index_right         geoid     county    aland  awater    popu  \\\n",
       "0                770  180632101051  Hendricks  3930331   33619  3242.0   \n",
       "1                770  180632101051  Hendricks  3930331   33619  3242.0   \n",
       "743              770  180632101051  Hendricks  3930331   33619  3242.0   \n",
       "984              770  180632101051  Hendricks  3930331   33619  3242.0   \n",
       "2286             770  180632101051  Hendricks  3930331   33619  3242.0   \n",
       "...              ...           ...        ...      ...     ...     ...   \n",
       "2485633           97  180973545002     Marion   324984       0   808.0   \n",
       "2485634           97  180973545002     Marion   324984       0   808.0   \n",
       "2485635           97  180973545002     Marion   324984       0   808.0   \n",
       "2485636           97  180973545002     Marion   324984       0   808.0   \n",
       "2485637           97  180973545002     Marion   324984       0   808.0   \n",
       "\n",
       "             hh  age_minor  age_adult  age_senior  age_median  sex_female  \\\n",
       "0        1053.0      783.0     1811.0       463.0        37.3      1627.0   \n",
       "1        1053.0      783.0     1811.0       463.0        37.3      1627.0   \n",
       "743      1053.0      783.0     1811.0       463.0        37.3      1627.0   \n",
       "984      1053.0      783.0     1811.0       463.0        37.3      1627.0   \n",
       "2286     1053.0      783.0     1811.0       463.0        37.3      1627.0   \n",
       "...         ...        ...        ...         ...         ...         ...   \n",
       "2485633   361.0      163.0      512.0        93.0        37.3       385.0   \n",
       "2485634   361.0      163.0      512.0        93.0        37.3       385.0   \n",
       "2485635   361.0      163.0      512.0        93.0        37.3       385.0   \n",
       "2485636   361.0      163.0      512.0        93.0        37.3       385.0   \n",
       "2485637   361.0      163.0      512.0        93.0        37.3       385.0   \n",
       "\n",
       "         sex_male  race_white  race_black  edu_eligible  edu_bachelors  \\\n",
       "0          1615.0      2664.0       429.0        2128.0          967.0   \n",
       "1          1615.0      2664.0       429.0        2128.0          967.0   \n",
       "743        1615.0      2664.0       429.0        2128.0          967.0   \n",
       "984        1615.0      2664.0       429.0        2128.0          967.0   \n",
       "2286       1615.0      2664.0       429.0        2128.0          967.0   \n",
       "...           ...         ...         ...           ...            ...   \n",
       "2485633     423.0       698.0        21.0         596.0          268.0   \n",
       "2485634     423.0       698.0        21.0         596.0          268.0   \n",
       "2485635     423.0       698.0        21.0         596.0          268.0   \n",
       "2485636     423.0       698.0        21.0         596.0          268.0   \n",
       "2485637     423.0       698.0        21.0         596.0          268.0   \n",
       "\n",
       "         employ_total  employ_in_LF  employ_not_in_LF    inc_total  inc_avg  \\\n",
       "0              1756.0        1756.0             642.0  106652900.0  32897.0   \n",
       "1              1756.0        1756.0             642.0  106652900.0  32897.0   \n",
       "743            1756.0        1756.0             642.0  106652900.0  32897.0   \n",
       "984            1756.0        1756.0             642.0  106652900.0  32897.0   \n",
       "2286           1756.0        1756.0             642.0  106652900.0  32897.0   \n",
       "...               ...           ...               ...          ...      ...   \n",
       "2485633         426.0         479.0             151.0   28790100.0  35631.0   \n",
       "2485634         426.0         479.0             151.0   28790100.0  35631.0   \n",
       "2485635         426.0         479.0             151.0   28790100.0  35631.0   \n",
       "2485636         426.0         479.0             151.0   28790100.0  35631.0   \n",
       "2485637         426.0         479.0             151.0   28790100.0  35631.0   \n",
       "\n",
       "         inc_total_hh  inc_median pop_poor pop_nonpoor  hh_poor  hh_nonpoor  \\\n",
       "0         106785300.0     92264.0     None        None     65.0       988.0   \n",
       "1         106785300.0     92264.0     None        None     65.0       988.0   \n",
       "743       106785300.0     92264.0     None        None     65.0       988.0   \n",
       "984       106785300.0     92264.0     None        None     65.0       988.0   \n",
       "2286      106785300.0     92264.0     None        None     65.0       988.0   \n",
       "...               ...         ...      ...         ...      ...         ...   \n",
       "2485633    28815600.0     56875.0     None        None     52.0       309.0   \n",
       "2485634    28815600.0     56875.0     None        None     52.0       309.0   \n",
       "2485635    28815600.0     56875.0     None        None     52.0       309.0   \n",
       "2485636    28815600.0     56875.0     None        None     52.0       309.0   \n",
       "2485637    28815600.0     56875.0     None        None     52.0       309.0   \n",
       "\n",
       "         cm_car  cm_pool  cm_pt  cm_bus  cm_subway  cm_taxi  cm_bike  cm_walk  \\\n",
       "0        1256.0    162.0    0.0     0.0        0.0      0.0      0.0      0.0   \n",
       "1        1256.0    162.0    0.0     0.0        0.0      0.0      0.0      0.0   \n",
       "743      1256.0    162.0    0.0     0.0        0.0      0.0      0.0      0.0   \n",
       "984      1256.0    162.0    0.0     0.0        0.0      0.0      0.0      0.0   \n",
       "2286     1256.0    162.0    0.0     0.0        0.0      0.0      0.0      0.0   \n",
       "...         ...      ...    ...     ...        ...      ...      ...      ...   \n",
       "2485633   343.0     19.0   19.0    19.0        0.0      6.0      6.0      0.0   \n",
       "2485634   343.0     19.0   19.0    19.0        0.0      6.0      6.0      0.0   \n",
       "2485635   343.0     19.0   19.0    19.0        0.0      6.0      6.0      0.0   \n",
       "2485636   343.0     19.0   19.0    19.0        0.0      6.0      6.0      0.0   \n",
       "2485637   343.0     19.0   19.0    19.0        0.0      6.0      6.0      0.0   \n",
       "\n",
       "         cm_wfm  pop_density  \n",
       "0        1418.0  2136.395498  \n",
       "1        1418.0  2136.395498  \n",
       "743      1418.0  2136.395498  \n",
       "984      1418.0  2136.395498  \n",
       "2286     1418.0  2136.395498  \n",
       "...         ...          ...  \n",
       "2485633   362.0  6439.425919  \n",
       "2485634   362.0  6439.425919  \n",
       "2485635   362.0  6439.425919  \n",
       "2485636   362.0  6439.425919  \n",
       "2485637   362.0  6439.425919  \n",
       "\n",
       "[4900931 rows x 43 columns]"
      ]
     },
     "execution_count": 26,
     "metadata": {},
     "output_type": "execute_result"
    }
   ],
   "source": [
    "df = gpd.sjoin(trips, gpd.read_file(indy.data / 'geometry/acs.gpkg'), predicate='within'); df"
   ]
  },
  {
   "cell_type": "code",
   "execution_count": 27,
   "id": "11484d0c-5a08-43ec-a788-4576382c372e",
   "metadata": {},
   "outputs": [],
   "source": [
    "# gpd.read_file(indy.data / 'geometry/acs.gpkg').astype({'geoid': int}).join(\n",
    "#     df.groupby(['is_src','geoid']).size().rename('n_trips').reset_index()\n",
    "#     .assign(kind=lambda df: df['is_src'].map({True: 'origin', False: 'desintation'})), on='geoid')"
   ]
  },
  {
   "cell_type": "code",
   "execution_count": null,
   "id": "90921f09-6a44-4975-85af-5e63877d4d20",
   "metadata": {},
   "outputs": [],
   "source": []
  }
 ],
 "metadata": {
  "kernelspec": {
   "display_name": "Python 3 (ipykernel)",
   "language": "python",
   "name": "python3"
  },
  "language_info": {
   "codemirror_mode": {
    "name": "ipython",
    "version": 3
   },
   "file_extension": ".py",
   "mimetype": "text/x-python",
   "name": "python",
   "nbconvert_exporter": "python",
   "pygments_lexer": "ipython3",
   "version": "3.9.7"
  },
  "toc-autonumbering": true
 },
 "nbformat": 4,
 "nbformat_minor": 5
}
