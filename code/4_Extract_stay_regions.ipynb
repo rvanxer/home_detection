{
 "cells": [
  {
   "cell_type": "markdown",
   "id": "208d5228-bddc-4a21-bc13-598417275544",
   "metadata": {},
   "source": [
    "# Setup"
   ]
  },
  {
   "cell_type": "code",
   "execution_count": 1,
   "id": "a7144f88-d163-4886-918d-694d4ecea16e",
   "metadata": {
    "tags": []
   },
   "outputs": [
    {
     "name": "stdout",
     "output_type": "stream",
     "text": [
      "/home/umni2/a/umnilab/users/verma99/mk/home_detection/code\n"
     ]
    }
   ],
   "source": [
    "!pwd"
   ]
  },
  {
   "cell_type": "code",
   "execution_count": 2,
   "id": "e6978822-d9b0-411c-8b06-603e133bf9cb",
   "metadata": {
    "tags": []
   },
   "outputs": [],
   "source": [
    "from setup import *"
   ]
  },
  {
   "cell_type": "code",
   "execution_count": 3,
   "id": "c2c8c63c-f83e-4c50-8d41-bf18f48dbe1f",
   "metadata": {
    "tags": []
   },
   "outputs": [],
   "source": [
    "import contextily as ctx\n",
    "import haversine as hs\n",
    "from haversine import haversine_vector as haversine\n",
    "import scipy.cluster.hierarchy as sch\n",
    "from shapely.geometry import box, Polygon\n",
    "from sklearn.cluster import MeanShift, AgglomerativeClustering"
   ]
  },
  {
   "cell_type": "code",
   "execution_count": 4,
   "id": "05bf9b34-f1df-44d1-bd28-e64c2859b790",
   "metadata": {
    "tags": []
   },
   "outputs": [
    {
     "name": "stderr",
     "output_type": "stream",
     "text": [
      "Setting default log level to \"WARN\".\n",
      "To adjust logging level use sc.setLogLevel(newLevel). For SparkR, use setLogLevel(newLevel).\n"
     ]
    },
    {
     "name": "stdout",
     "output_type": "stream",
     "text": [
      "23/04/01 10:50:12 WARN NativeCodeLoader: Unable to load native-hadoop library for your platform... using builtin-java classes where applicable\n"
     ]
    }
   ],
   "source": [
    "SP.start()"
   ]
  },
  {
   "cell_type": "markdown",
   "id": "5aedb53e-e09d-40c2-8b27-b370dab7d0cf",
   "metadata": {},
   "source": [
    "# Prepare data"
   ]
  },
  {
   "cell_type": "markdown",
   "id": "a43826ae-e6a0-425e-90f9-5ea0c738a5cb",
   "metadata": {},
   "source": [
    "## Load regions"
   ]
  },
  {
   "cell_type": "code",
   "execution_count": 5,
   "id": "43bc0b35-e83a-418f-a4ed-a652d75d8fef",
   "metadata": {
    "tags": []
   },
   "outputs": [],
   "source": [
    "indy = Region.load('Indianapolis', 'Indiana')\n",
    "indy.dates = U.dates('2021-03-01', '2021-03-07')"
   ]
  },
  {
   "cell_type": "code",
   "execution_count": 6,
   "id": "ea170f4a-3b3c-4121-ae17-057bcc6fe438",
   "metadata": {
    "tags": []
   },
   "outputs": [],
   "source": [
    "aus = Region.load('Austin', 'Texas')\n",
    "aus.dates = U.dates('2021-07-01', '2021-07-07')"
   ]
  },
  {
   "cell_type": "code",
   "execution_count": 7,
   "id": "127bf2e9-8d1a-42cd-877c-47cee69311bd",
   "metadata": {
    "tags": []
   },
   "outputs": [],
   "source": [
    "hous = Region.load('Houston', 'Texas')\n",
    "hous.dates = U.dates('2021-07-01', '2021-07-07')"
   ]
  },
  {
   "cell_type": "markdown",
   "id": "471038a2-5f9d-4d05-8b42-0df9b7e21a1a",
   "metadata": {},
   "source": [
    "## Parameters"
   ]
  },
  {
   "cell_type": "code",
   "execution_count": 8,
   "id": "2d9ce4fc-54bf-40e6-b17d-bf3b2ff34424",
   "metadata": {
    "tags": []
   },
   "outputs": [],
   "source": [
    "grid_interval = 50 # meters\n",
    "\n",
    "agglo_clust_params = dict(\n",
    "    min_dist = 100, # meters\n",
    "    max_dist = 200, # meters\n",
    "    step = 1, # meters\n",
    "    min_ratio = 1.5,\n",
    "    affinity = 'euclidean',\n",
    "    linkage = 'average',\n",
    ")\n",
    "dwell_thresh = 10 * 60 # seconds"
   ]
  },
  {
   "cell_type": "markdown",
   "id": "7301e92e-f983-49ed-9c23-dc853bd51f92",
   "metadata": {},
   "source": [
    "## Helper functions"
   ]
  },
  {
   "cell_type": "markdown",
   "id": "e803e432-9c4b-474f-89eb-1f2cade2ad3e",
   "metadata": {},
   "source": [
    "### Convert distance from meter to degree"
   ]
  },
  {
   "cell_type": "code",
   "execution_count": 9,
   "id": "305b7ea3-bb24-44ad-9559-197b6d74a848",
   "metadata": {
    "tags": []
   },
   "outputs": [],
   "source": [
    "def dist_m2deg(dist, lat, a=6_371_001, b=6_356_752):\n",
    "    lat = np.deg2rad(lat)\n",
    "    curve_radius = (a * b) ** 2 / (\n",
    "            (a * np.cos(lat)) ** 2 + (b * np.sin(lat)) ** 2) ** 1.5\n",
    "    return float(np.rad2deg(dist / curve_radius))"
   ]
  },
  {
   "cell_type": "markdown",
   "id": "2af53d7f-011c-4a93-bf5a-a2a7d10f677e",
   "metadata": {},
   "source": [
    "## Create grid from a region's bounding box"
   ]
  },
  {
   "cell_type": "code",
   "execution_count": 10,
   "id": "1ebc311b-d4e3-4ff9-8e30-27a1cace0ab7",
   "metadata": {
    "tags": []
   },
   "outputs": [
    {
     "name": "stdout",
     "output_type": "stream",
     "text": [
      "x: 2496, y: 3022\n"
     ]
    },
    {
     "data": {
      "text/plain": [
       "array([-86.69586   , -86.69541084, -86.69496168, ..., -85.57611   ,\n",
       "       -85.57566084, -85.575541  ])"
      ]
     },
     "execution_count": 10,
     "metadata": {},
     "output_type": "execute_result"
    }
   ],
   "source": [
    "def make_grid(rgn, step, delta=1e-16):\n",
    "    df = Gdf({'geometry': [box(*rgn.bbox)]}, crs=CRS_DEG)\n",
    "    minx, miny, maxx, maxy = df.to_crs(CRS_M).bounds.iloc[0]\n",
    "    x = np.append(np.arange(minx, maxx - delta, step), maxx)\n",
    "    y = np.append(np.arange(miny, maxy - delta, step), maxy)\n",
    "    pts = [(x, y[0]) for x in x] + [(x[0], y) for y in y]\n",
    "    df = Pdf(pts, columns=[LON, LAT])\n",
    "    df = mk.geo.pdf2gdf(df, crs=CRS_M)\n",
    "    df = mk.geo.gdf2pdf(df.to_crs(CRS_DEG))\n",
    "    x = df[LON].head(len(x)).values\n",
    "    y = df[LAT].tail(len(y)).values\n",
    "    # x = pd.IntervalIndex.from_arrays(x[:-1], x[1:], closed='both')\n",
    "    # y = pd.IntervalIndex.from_arrays(y[:-1], y[1:], closed='both')\n",
    "    return x, y\n",
    "    \n",
    "x, y = make_grid(indy, grid_interval)\n",
    "print(f'x: {len(x)}, y: {len(y)}'); x"
   ]
  },
  {
   "cell_type": "markdown",
   "id": "91b69eb2-c010-4615-8886-f7df65f409c9",
   "metadata": {},
   "source": [
    "## Load pings"
   ]
  },
  {
   "cell_type": "code",
   "execution_count": 11,
   "id": "bd6fa1dd-cdc0-44b1-9d6b-2ee7d3ae629c",
   "metadata": {
    "tags": []
   },
   "outputs": [],
   "source": [
    "def load_pings(rgn, dates=None, concat=True):\n",
    "    dates = sorted(dates or rgn.dates)\n",
    "    return reduce(Sdf.union, [\n",
    "        SP.read_parquet(rgn.data / f'pings/{date}').drop(ERR)\n",
    "        .withColumn('day_num', F.lit((date - dates[0]).days).cast(T.int8))\n",
    "        for date in dates])\n",
    "\n",
    "# %time x = load_pings(aus); x"
   ]
  },
  {
   "cell_type": "code",
   "execution_count": 12,
   "id": "66cbeeb0-e986-47b7-b9fa-0982a4694fd8",
   "metadata": {
    "tags": []
   },
   "outputs": [
    {
     "name": "stderr",
     "output_type": "stream",
     "text": [
      "                                                                                \r"
     ]
    }
   ],
   "source": [
    "sdf = SP.read_parquet(indy.data / 'pings/2021-03-01')"
   ]
  },
  {
   "cell_type": "code",
   "execution_count": 13,
   "id": "039fb11d-92ef-409b-a789-5496338f8f63",
   "metadata": {
    "tags": []
   },
   "outputs": [
    {
     "name": "stderr",
     "output_type": "stream",
     "text": [
      "[Stage 1:=====>                                                   (4 + 36) / 40]\r"
     ]
    },
    {
     "name": "stdout",
     "output_type": "stream",
     "text": [
      "10 rows x 5 cols; Memory: 0.0 MiB\n"
     ]
    },
    {
     "name": "stderr",
     "output_type": "stream",
     "text": [
      "                                                                                \r"
     ]
    },
    {
     "data": {
      "text/html": [
       "<div>\n",
       "<style scoped>\n",
       "    .dataframe tbody tr th:only-of-type {\n",
       "        vertical-align: middle;\n",
       "    }\n",
       "\n",
       "    .dataframe tbody tr th {\n",
       "        vertical-align: top;\n",
       "    }\n",
       "\n",
       "    .dataframe thead th {\n",
       "        text-align: right;\n",
       "    }\n",
       "</style>\n",
       "<table border=\"1\" class=\"dataframe\">\n",
       "  <thead>\n",
       "    <tr style=\"text-align: right;\">\n",
       "      <th></th>\n",
       "      <th>uid</th>\n",
       "      <th>lon</th>\n",
       "      <th>lat</th>\n",
       "      <th>ts</th>\n",
       "      <th>error</th>\n",
       "    </tr>\n",
       "  </thead>\n",
       "  <tbody>\n",
       "    <tr>\n",
       "      <th></th>\n",
       "      <td>&lt;int64&gt;</td>\n",
       "      <td>&lt;object&gt;</td>\n",
       "      <td>&lt;object&gt;</td>\n",
       "      <td>&lt;object&gt;</td>\n",
       "      <td>&lt;object&gt;</td>\n",
       "    </tr>\n",
       "    <tr>\n",
       "      <th>0</th>\n",
       "      <td>-9221220934257213376</td>\n",
       "      <td>[-86.121124, -86.11503, -86.10469, -86.10503, ...</td>\n",
       "      <td>[39.585987, 39.58597, 39.58778, 39.58695, 39.5...</td>\n",
       "      <td>[32623.0, 32635.0, 36262.0, 47056.0, 47087.0, ...</td>\n",
       "      <td>[10.0, 5.0, 14.0, 45.0, 4.0, 29.0, 8.0, 18.0]</td>\n",
       "    </tr>\n",
       "  </tbody>\n",
       "</table>\n",
       "</div>"
      ],
      "text/plain": [
       "                    uid                                                lon  \\\n",
       "                <int64>                                           <object>   \n",
       "0  -9221220934257213376  [-86.121124, -86.11503, -86.10469, -86.10503, ...   \n",
       "\n",
       "                                                 lat  \\\n",
       "                                            <object>   \n",
       "0  [39.585987, 39.58597, 39.58778, 39.58695, 39.5...   \n",
       "\n",
       "                                                  ts  \\\n",
       "                                            <object>   \n",
       "0  [32623.0, 32635.0, 36262.0, 47056.0, 47087.0, ...   \n",
       "\n",
       "                                           error  \n",
       "                                        <object>  \n",
       "0  [10.0, 5.0, 14.0, 45.0, 4.0, 29.0, 8.0, 18.0]  "
      ]
     },
     "metadata": {},
     "output_type": "display_data"
    }
   ],
   "source": [
    "pdf = sdf.limit(10).toPandas().disp()"
   ]
  },
  {
   "cell_type": "markdown",
   "id": "df1ca4c5-5199-4ed9-b0c6-ebb5b486a0bb",
   "metadata": {},
   "source": [
    "## Compute the no. of hierarchical clusters"
   ]
  },
  {
   "cell_type": "code",
   "execution_count": 14,
   "id": "f06ebfd3-7fa1-46f0-8dbd-22fa18861b1c",
   "metadata": {
    "tags": []
   },
   "outputs": [
    {
     "name": "stdout",
     "output_type": "stream",
     "text": [
      "Total pings: 66\n",
      "No. of clusters: 54\n"
     ]
    }
   ],
   "source": [
    "def get_num_clusters(x, y, min_dist, max_dist, step, min_ratio, **kwargs):\n",
    "    \"\"\" Naming changed from Shagun's implementation in `Shagun_M3.ipynb`. \"\"\"\n",
    "    assert len(x) == len(y)\n",
    "    if len(x) == 0: return 0\n",
    "    if len(x) == 1: return 1\n",
    "    # convert the distance parameters from meters to degrees\n",
    "    lat = (max(y) + max(y)) / 2\n",
    "    dt = dist_m2deg(min_dist, lat)\n",
    "    dt_max = dist_m2deg(max_dist, lat)\n",
    "    d_eps = dist_m2deg(step, lat)\n",
    "    # create the dendrogram\n",
    "    linkage = sch.linkage(np.vstack([x, y]).T, method='average')\n",
    "    dendrogram = sch.dendrogram(linkage, no_plot=True)\n",
    "    # y-values of the nodes of the links on the dendrogram\n",
    "    # (i.e., inter-cluster distance)\n",
    "    Y = Pdf(dendrogram['dcoord'])\n",
    "    # initialize\n",
    "    n_clusters = 1\n",
    "    done = False\n",
    "    while not done:\n",
    "        n_clusters_pre = n_clusters\n",
    "        d_df = Y[Y[1] < dt] # links below the min distance threshold\n",
    "        d = d_df[1].max() if len(d_df) > 0 else d_eps\n",
    "        D_df = Y[Y[1] > dt] # links above the min distance threshold\n",
    "        if len(D_df) == 0: # if there are no clusters farther than `dt`\n",
    "            done = True # finish since all points are in the same cluster\n",
    "            n_clusters = 1\n",
    "        else: # if there is at least one cluster pair far away from each other\n",
    "            D = D_df[1].min() # min inter-cluster distance greater than `dt`\n",
    "            n_clusters = (len(Y[(Y[0] < dt) & (Y[1] > dt)]) + \n",
    "                          len(Y[(Y[2] > dt) & (Y[3] < dt)]))\n",
    "            if d > dt_max:\n",
    "                n_clusters = n_clusters_pre\n",
    "                done = True\n",
    "            else:\n",
    "                if d == 0:\n",
    "                    ratio_min = D / dt\n",
    "                else:\n",
    "                    ratio_min = min(D/d, D/dt)\n",
    "                if ratio_min > min_ratio:\n",
    "                    done = True\n",
    "                else:\n",
    "                    dt = D + d_eps # increase the distance threshold\n",
    "    return n_clusters\n",
    "\n",
    "r = pdf.iloc[1]; print('Total pings:', r.lon.size)\n",
    "print('No. of clusters:', get_num_clusters(r.lon, r.lat, **agglo_clust_params))"
   ]
  },
  {
   "cell_type": "markdown",
   "id": "f9a6e660-6570-41d4-80f6-3368a5678027",
   "metadata": {},
   "source": [
    "## Hierarchical clustering for one user"
   ]
  },
  {
   "cell_type": "code",
   "execution_count": 15,
   "id": "f41b1d03-31c2-41ec-9b0b-f0be94d998bd",
   "metadata": {
    "tags": []
   },
   "outputs": [],
   "source": [
    "def hierarchical_clustering(x, y, **params):\n",
    "    if len(x) == 1:\n",
    "        return [0]\n",
    "    try:\n",
    "        n_clust = get_num_clusters(x, y, **params)\n",
    "        model = AgglomerativeClustering(\n",
    "            n_clusters=n_clust,\n",
    "            affinity=params.get('affinity', 'euclidean'),\n",
    "            linkage=params.get('linkage', 'average'))\n",
    "        model.fit(np.vstack([x, y]).T)\n",
    "        return model.labels_.tolist()\n",
    "    except Exception as e:\n",
    "        print(e)\n",
    "        return [-1] * len(x)"
   ]
  },
  {
   "cell_type": "markdown",
   "id": "37d33500-d704-448e-9773-36050bba46d0",
   "metadata": {},
   "source": [
    "## Get clusters"
   ]
  },
  {
   "cell_type": "code",
   "execution_count": 16,
   "id": "d8c61b0d-b656-46cb-98d1-ca99cf63960e",
   "metadata": {
    "tags": []
   },
   "outputs": [
    {
     "name": "stdout",
     "output_type": "stream",
     "text": [
      "CPU times: user 969 µs, sys: 0 ns, total: 969 µs\n",
      "Wall time: 722 µs\n"
     ]
    },
    {
     "data": {
      "text/html": [
       "<div>\n",
       "<style scoped>\n",
       "    .dataframe tbody tr th:only-of-type {\n",
       "        vertical-align: middle;\n",
       "    }\n",
       "\n",
       "    .dataframe tbody tr th {\n",
       "        vertical-align: top;\n",
       "    }\n",
       "\n",
       "    .dataframe thead th {\n",
       "        text-align: right;\n",
       "    }\n",
       "</style>\n",
       "<table border=\"1\" class=\"dataframe\">\n",
       "  <thead>\n",
       "    <tr style=\"text-align: right;\">\n",
       "      <th></th>\n",
       "      <th>lon</th>\n",
       "      <th>lat</th>\n",
       "      <th>ts</th>\n",
       "      <th>cell</th>\n",
       "    </tr>\n",
       "  </thead>\n",
       "  <tbody>\n",
       "    <tr>\n",
       "      <th>0</th>\n",
       "      <td>-86.687897</td>\n",
       "      <td>39.555084</td>\n",
       "      <td>20122.0</td>\n",
       "      <td>1.0</td>\n",
       "    </tr>\n",
       "    <tr>\n",
       "      <th>1</th>\n",
       "      <td>-86.639671</td>\n",
       "      <td>39.565880</td>\n",
       "      <td>20276.0</td>\n",
       "      <td>1.0</td>\n",
       "    </tr>\n",
       "    <tr>\n",
       "      <th>2</th>\n",
       "      <td>-86.631584</td>\n",
       "      <td>39.570583</td>\n",
       "      <td>20302.0</td>\n",
       "      <td>1.0</td>\n",
       "    </tr>\n",
       "    <tr>\n",
       "      <th>3</th>\n",
       "      <td>-86.626495</td>\n",
       "      <td>39.572033</td>\n",
       "      <td>20318.0</td>\n",
       "      <td>1.0</td>\n",
       "    </tr>\n",
       "    <tr>\n",
       "      <th>4</th>\n",
       "      <td>-86.612244</td>\n",
       "      <td>39.575401</td>\n",
       "      <td>20367.0</td>\n",
       "      <td>1.0</td>\n",
       "    </tr>\n",
       "    <tr>\n",
       "      <th>...</th>\n",
       "      <td>...</td>\n",
       "      <td>...</td>\n",
       "      <td>...</td>\n",
       "      <td>...</td>\n",
       "    </tr>\n",
       "    <tr>\n",
       "      <th>61</th>\n",
       "      <td>-86.392906</td>\n",
       "      <td>39.656883</td>\n",
       "      <td>73432.0</td>\n",
       "      <td>1.0</td>\n",
       "    </tr>\n",
       "    <tr>\n",
       "      <th>62</th>\n",
       "      <td>-86.400734</td>\n",
       "      <td>39.651516</td>\n",
       "      <td>73462.0</td>\n",
       "      <td>1.0</td>\n",
       "    </tr>\n",
       "    <tr>\n",
       "      <th>63</th>\n",
       "      <td>-86.295021</td>\n",
       "      <td>39.699810</td>\n",
       "      <td>73477.0</td>\n",
       "      <td>1.0</td>\n",
       "    </tr>\n",
       "    <tr>\n",
       "      <th>64</th>\n",
       "      <td>-86.412918</td>\n",
       "      <td>39.646381</td>\n",
       "      <td>73503.0</td>\n",
       "      <td>1.0</td>\n",
       "    </tr>\n",
       "    <tr>\n",
       "      <th>65</th>\n",
       "      <td>-86.417740</td>\n",
       "      <td>39.644478</td>\n",
       "      <td>73519.0</td>\n",
       "      <td>1.0</td>\n",
       "    </tr>\n",
       "  </tbody>\n",
       "</table>\n",
       "<p>66 rows × 4 columns</p>\n",
       "</div>"
      ],
      "text/plain": [
       "          lon        lat       ts  cell\n",
       "0  -86.687897  39.555084  20122.0   1.0\n",
       "1  -86.639671  39.565880  20276.0   1.0\n",
       "2  -86.631584  39.570583  20302.0   1.0\n",
       "3  -86.626495  39.572033  20318.0   1.0\n",
       "4  -86.612244  39.575401  20367.0   1.0\n",
       "..        ...        ...      ...   ...\n",
       "61 -86.392906  39.656883  73432.0   1.0\n",
       "62 -86.400734  39.651516  73462.0   1.0\n",
       "63 -86.295021  39.699810  73477.0   1.0\n",
       "64 -86.412918  39.646381  73503.0   1.0\n",
       "65 -86.417740  39.644478  73519.0   1.0\n",
       "\n",
       "[66 rows x 4 columns]"
      ]
     },
     "execution_count": 16,
     "metadata": {},
     "output_type": "execute_result"
    }
   ],
   "source": [
    "def get_clusters(x, y, t, cells):\n",
    "    df = Pdf({LON: x, LAT: y, TS: t, 'cell': cells})\n",
    "    return df\n",
    "    \n",
    "r = pdf.iloc[1]\n",
    "%time x = get_clusters(r.lon, r.lat, r.ts, np.ones_like(r.lon)); x"
   ]
  },
  {
   "cell_type": "markdown",
   "id": "0df96073-6cc8-42aa-8a67-b7ab20849dd1",
   "metadata": {},
   "source": [
    "## Get stay regions"
   ]
  },
  {
   "cell_type": "code",
   "execution_count": 17,
   "id": "e77e35ac-7387-461d-9291-e71924eb791d",
   "metadata": {
    "tags": []
   },
   "outputs": [],
   "source": [
    "def get_stay_regions(df, dwell_thresh):\n",
    "    df = df.sort_values(TS)\n",
    "    # uid = df[UID].iloc[0]\n",
    "    df['virt_rgn'] = (df['cluster'].diff() != 0).astype(np.int32).cumsum()\n",
    "    df2 = df.groupby('virt_rgn').agg({x: list for x in [\n",
    "        LON, LAT, TS, 'cluster']}).reset_index()\n",
    "    # df2.insert(0, UID, uid)\n",
    "    df2['dwell_time'] = df2[TS].str[-1] - df2[TS].str[0]\n",
    "    df2['stay_rgn'] = df2['dwell_time'] >= dwell_thresh\n",
    "    return df2"
   ]
  },
  {
   "cell_type": "markdown",
   "id": "42c25782-e2b1-4494-bff8-41592b79f1b0",
   "metadata": {},
   "source": [
    "## Main"
   ]
  },
  {
   "cell_type": "code",
   "execution_count": 18,
   "id": "f187072c-1ec5-430a-9e1f-ae8d44227a17",
   "metadata": {
    "tags": []
   },
   "outputs": [],
   "source": [
    "def get_ping_clusters(rgn, dates=None, grid_interval=grid_interval,\n",
    "                      clust_params=agglo_clust_params,\n",
    "                      dwell_thresh=dwell_thresh, seed=None, save=False):\n",
    "    df = load_pings(rgn, dates)\n",
    "    # create the grid based on the region's bounding box\n",
    "    gridX, gridY = get_grid(rgn, grid_interval)\n",
    "    # sample one ping using pandas\n",
    "    def sample_cell_pings(x, y, t):\n",
    "        df = Pdf({LON: x, LAT: y, TS: t})\n",
    "        df['cx'] = pd.cut(df[LON], gridX).cat.codes\n",
    "        df['cy'] = pd.cut(df[LAT], gridY).cat.codes\n",
    "        df['cell'] = df.pop('cx') + df.pop('cy') * len(gridX)\n",
    "        sample = df.groupby('cell').sample().reset_index(drop=True)\n",
    "        x, y = sample[LON].values, sample[LAT].values\n",
    "        labels = hierarchical_clustering(x, y, **clust_params)\n",
    "        sample['cluster'] = Arr(labels).astype(float)\n",
    "        df = df.merge(sample[['cell','cluster']], \n",
    "                      on='cell').drop(columns='cell')\n",
    "        # compute virtual regions\n",
    "        # df = get_stay_regions(df, dwell_thresh)\n",
    "        return [df[x].tolist() for x in [LON, LAT, TS, 'cluster']]\n",
    "    df = df.select(UID, F.udf(\n",
    "        sample_cell_pings, T.array(T.array(T.float))\n",
    "    )(LON, LAT, TS).alias('_'))\n",
    "    df = df.select(UID, *[F.col('_')[i].alias(x) for i, x in \n",
    "                          enumerate([LON, LAT, TS, 'cluster'])])\n",
    "    df = df.withColumn('cluster', F.col('cluster').cast(T.array(T.int32)))\n",
    "    if save:\n",
    "        mk.spark.write(df, rgn.data / 'location_clusters')\n",
    "    return df\n",
    "    \n",
    "# %time x = get_ping_clusters(indy, [dt.date(2021,3,1), dt.date(2021,3,2)]); x\n",
    "# %time x.disp(5)\n",
    "# %time d = x.limit(20).toPandas().disp(None)"
   ]
  },
  {
   "cell_type": "code",
   "execution_count": 19,
   "id": "327ea34d-02f2-4194-b5a3-79194a860a24",
   "metadata": {
    "tags": []
   },
   "outputs": [
    {
     "name": "stdout",
     "output_type": "stream",
     "text": [
      "CPU times: user 129 ms, sys: 25.1 ms, total: 154 ms\n",
      "Wall time: 1.36 s\n"
     ]
    },
    {
     "data": {
      "text/plain": [
       "DataFrame[uid: bigint, lon: array<float>, lat: array<float>, ts: array<float>, cx: array<int>, cy: array<int>, cell: array<int>]"
      ]
     },
     "execution_count": 19,
     "metadata": {},
     "output_type": "execute_result"
    }
   ],
   "source": [
    "def main_clustering(rgn, dates=None, grid_interval=grid_interval,\n",
    "                    clust_params=agglo_clust_params,\n",
    "                    dwell_thresh=dwell_thresh, seed=None, save=False):\n",
    "    # create the grid based on the region's bounding box\n",
    "    gridX, gridY = make_grid(rgn, grid_interval)\n",
    "    def add_day(t, n_days): return [t + n_days * 86400 for t in t]\n",
    "    user_day_df = (load_pings(rgn, dates)\n",
    "                   .withColumn(TS, F.udf(add_day, T.array(T.float))(TS)))\n",
    "    user_df = (\n",
    "        user_day_df.groupby(UID)\n",
    "        .agg(*[F.flatten(F.collect_list(x)).alias(x) for x in [LON, LAT, TS]])\n",
    "        .withColumn('cx', F.udf(\n",
    "            lambda x: pd.cut(x, gridX).codes.tolist(), T.array(T.int))(LON))\n",
    "        .withColumn('cy', F.udf(\n",
    "            lambda x: pd.cut(y, gridY).codes.tolist(), T.array(T.int))(LAT))\n",
    "        .withColumn('cell', F.udf(\n",
    "            lambda cx, cy: [cx + cy * len(gridX) for cx, cy in zip(cx, cy)],\n",
    "            T.array(T.int))('cx', 'cy'))\n",
    "    ); return user_df\n",
    "\n",
    "%time x = main_clustering(indy); x"
   ]
  },
  {
   "cell_type": "code",
   "execution_count": null,
   "id": "85ed9259-e513-41c1-af1e-e4243494d92b",
   "metadata": {},
   "outputs": [],
   "source": []
  },
  {
   "cell_type": "code",
   "execution_count": null,
   "id": "31f5afbd-ce17-44ff-a9fc-495b7eb00cfd",
   "metadata": {},
   "outputs": [],
   "source": []
  }
 ],
 "metadata": {
  "kernelspec": {
   "display_name": "Python 3 (ipykernel)",
   "language": "python",
   "name": "python3"
  },
  "language_info": {
   "codemirror_mode": {
    "name": "ipython",
    "version": 3
   },
   "file_extension": ".py",
   "mimetype": "text/x-python",
   "name": "python",
   "nbconvert_exporter": "python",
   "pygments_lexer": "ipython3",
   "version": "3.9.7"
  },
  "toc-autonumbering": true
 },
 "nbformat": 4,
 "nbformat_minor": 5
}
