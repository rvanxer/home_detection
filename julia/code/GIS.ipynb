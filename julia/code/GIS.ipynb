{
 "cells": [
  {
   "attachments": {},
   "cell_type": "markdown",
   "id": "e8c6a070-18d0-4ea4-9d77-b88b9fae6b2f",
   "metadata": {},
   "source": [
    "# Setup"
   ]
  },
  {
   "cell_type": "code",
   "execution_count": 2,
   "id": "40d8e924-25be-4a77-a2ef-4169b0c377cf",
   "metadata": {
    "tags": []
   },
   "outputs": [
    {
     "data": {
      "text/plain": [
       "\"/home/umni2/a/umnilab/users/verma99/mk/home_detection/julia/code\""
      ]
     },
     "execution_count": 2,
     "metadata": {},
     "output_type": "execute_result"
    }
   ],
   "source": [
    "pwd()"
   ]
  },
  {
   "cell_type": "code",
   "execution_count": 31,
   "id": "9f6e74d1",
   "metadata": {},
   "outputs": [],
   "source": [
    "using ArchGDAL\n",
    "using ColorSchemes\n",
    "using DataFrames\n",
    "using PyCall"
   ]
  },
  {
   "cell_type": "code",
   "execution_count": 4,
   "id": "18e40b22-492b-41a3-9667-9511d9f08d4b",
   "metadata": {
    "tags": []
   },
   "outputs": [],
   "source": [
    "include(\"setup.jl\")\n",
    "include(\"utils.jl\");"
   ]
  },
  {
   "attachments": {},
   "cell_type": "markdown",
   "id": "8509be9f-2e1a-4bf4-bbd2-37f06e9bfafc",
   "metadata": {},
   "source": [
    "# Regional boundaries"
   ]
  },
  {
   "attachments": {},
   "cell_type": "markdown",
   "id": "da2fb877",
   "metadata": {},
   "source": [
    "## Define regions"
   ]
  },
  {
   "cell_type": "code",
   "execution_count": 7,
   "id": "d4fa72a6",
   "metadata": {},
   "outputs": [],
   "source": [
    "austin = Region(\"Austin\", \"Texas\", [\n",
    "    \"Bastrop\", \"Caldwell\", \"Hays\", \"Travis\", \"Williamson\"]);"
   ]
  },
  {
   "cell_type": "code",
   "execution_count": 8,
   "id": "88c4970a",
   "metadata": {},
   "outputs": [],
   "source": [
    "batonRouge = Region(\"Baton Rouge\", \"Louisiana\", [\n",
    "    \"Ascension\", \"East Baton Rouge\", \"East Feliciana\", \"Iberville\", \"Livingston\",\n",
    "    \"Pointe Coupee\", \"St. Helena\", \"West Baton Rouge\", \"West Feliciana\"]);"
   ]
  },
  {
   "cell_type": "code",
   "execution_count": 9,
   "id": "62f995fd",
   "metadata": {},
   "outputs": [],
   "source": [
    "houston = Region(\"Houston\", \"Texas\", [\n",
    "    \"Austin\",\"Brazoria\",\"Chambers\",\"Fort Bend\",\"Galveston\",\n",
    "    \"Harris\",\"Liberty\",\"Montgomery\",\"Waller\"]);"
   ]
  },
  {
   "cell_type": "code",
   "execution_count": 10,
   "id": "9f08496d",
   "metadata": {},
   "outputs": [],
   "source": [
    "indy = Region(\"Indianapolis\", \"Indiana\", [\n",
    "    \"Boone\",\"Brown\",\"Hamilton\",\"Hancock\",\"Hendricks\",\"Johnson\",\n",
    "    \"Madison\",\"Marion\",\"Morgan\",\"Putnam\",\"Shelby\"]);"
   ]
  },
  {
   "cell_type": "code",
   "execution_count": 15,
   "id": "9dc6faa4",
   "metadata": {},
   "outputs": [],
   "source": [
    "sanAntonio = Region(\"San Antonio\", \"Texas\", [\n",
    "    \"Atascosa\", \"Bandera\", \"Bexar\", \"Comal\", \n",
    "    \"Guadalupe\", \"Kendall\", \"Medina\", \"Wilson\"]);"
   ]
  },
  {
   "cell_type": "code",
   "execution_count": 16,
   "id": "074ba548",
   "metadata": {},
   "outputs": [],
   "source": [
    "regions = Region[austin, batonRouge, houston, indy, sanAntonio];"
   ]
  },
  {
   "attachments": {},
   "cell_type": "markdown",
   "id": "9983619c",
   "metadata": {},
   "source": [
    "## City limit"
   ]
  },
  {
   "cell_type": "code",
   "execution_count": 25,
   "id": "67387d66",
   "metadata": {},
   "outputs": [],
   "source": [
    "@pyimport(osmnx)"
   ]
  },
  {
   "cell_type": "code",
   "execution_count": 29,
   "id": "c095e3f4",
   "metadata": {},
   "outputs": [
    {
     "ename": "LoadError",
     "evalue": "MethodError: no method matching getindex(::PyObject, ::Vector{String})\n\n\u001b[0mClosest candidates are:\n\u001b[0m  getindex(::PyObject, \u001b[91m::Integer\u001b[39m)\n\u001b[0m\u001b[90m   @\u001b[39m \u001b[36mPyCall\u001b[39m \u001b[90m\u001b[4mdeprecated.jl:103\u001b[24m\u001b[39m\n\u001b[0m  getindex(::PyObject, \u001b[91m::Integer\u001b[39m, \u001b[91m::Integer\u001b[39m)\n\u001b[0m\u001b[90m   @\u001b[39m \u001b[36mPyCall\u001b[39m \u001b[90m\u001b[4mdeprecated.jl:103\u001b[24m\u001b[39m\n\u001b[0m  getindex(::PyObject, \u001b[91m::T\u001b[39m) where T<:Union{AbstractString, Symbol}\n\u001b[0m\u001b[90m   @\u001b[39m \u001b[36mPyCall\u001b[39m \u001b[90m~/.julia/packages/PyCall/twYvK/src/\u001b[39m\u001b[90m\u001b[4mPyCall.jl:349\u001b[24m\u001b[39m\n\u001b[0m  ...\n",
     "output_type": "error",
     "traceback": [
      "MethodError: no method matching getindex(::PyObject, ::Vector{String})\n\n\u001b[0mClosest candidates are:\n\u001b[0m  getindex(::PyObject, \u001b[91m::Integer\u001b[39m)\n\u001b[0m\u001b[90m   @\u001b[39m \u001b[36mPyCall\u001b[39m \u001b[90m\u001b[4mdeprecated.jl:103\u001b[24m\u001b[39m\n\u001b[0m  getindex(::PyObject, \u001b[91m::Integer\u001b[39m, \u001b[91m::Integer\u001b[39m)\n\u001b[0m\u001b[90m   @\u001b[39m \u001b[36mPyCall\u001b[39m \u001b[90m\u001b[4mdeprecated.jl:103\u001b[24m\u001b[39m\n\u001b[0m  getindex(::PyObject, \u001b[91m::T\u001b[39m) where T<:Union{AbstractString, Symbol}\n\u001b[0m\u001b[90m   @\u001b[39m \u001b[36mPyCall\u001b[39m \u001b[90m~/.julia/packages/PyCall/twYvK/src/\u001b[39m\u001b[90m\u001b[4mPyCall.jl:349\u001b[24m\u001b[39m\n\u001b[0m  ...\n",
      "",
      "Stacktrace:",
      " [1] getCityLimit(rgn::Region, save::Bool, overwrite::Bool)",
      "   @ Main ./In[29]:7",
      " [2] getCityLimit(rgn::Region)",
      "   @ Main ./In[29]:2",
      " [3] top-level scope",
      "   @ In[29]:17"
     ]
    }
   ],
   "source": [
    "function getCityLimit(rgn::Region, save = true, overwrite = false)\n",
    "    outfile = \"$(rgn.root)/city_limit.gpkg\"\n",
    "    if isfile(outfile) && !overwrite\n",
    "        return outfile\n",
    "    end\n",
    "    df = osmnx.geocode_to_gdf(rgn.geocode)\n",
    "    df = df[[\"geometry\"]]\n",
    "    # if outfile.exists() and not overwrite:\n",
    "    #     return gpd.read_file(outfile)\n",
    "    # df = osmnx.geocode_to_gdf(rgn.geocode)\n",
    "    # df = df[['geometry']].to_crs(CRS_DEG)\n",
    "    # if save:\n",
    "    #     df.to_file(U.mkfile(outfile))\n",
    "    # return df\n",
    "end\n",
    "\n",
    "x = getCityLimit(indy)"
   ]
  },
  {
   "cell_type": "code",
   "execution_count": 28,
   "id": "e052ae0d",
   "metadata": {},
   "outputs": [
    {
     "data": {
      "text/plain": [
       "PyObject"
      ]
     },
     "execution_count": 28,
     "metadata": {},
     "output_type": "execute_result"
    }
   ],
   "source": [
    "typeof(x)"
   ]
  },
  {
   "cell_type": "code",
   "execution_count": null,
   "id": "ace95e08",
   "metadata": {},
   "outputs": [],
   "source": []
  },
  {
   "cell_type": "code",
   "execution_count": null,
   "id": "9db38328",
   "metadata": {},
   "outputs": [],
   "source": []
  },
  {
   "cell_type": "code",
   "execution_count": null,
   "id": "20ad0f7e",
   "metadata": {},
   "outputs": [],
   "source": []
  }
 ],
 "metadata": {
  "kernelspec": {
   "display_name": "Julia 1.9.0",
   "language": "julia",
   "name": "julia-1.9"
  },
  "language_info": {
   "file_extension": ".jl",
   "mimetype": "application/julia",
   "name": "julia",
   "version": "1.9.0"
  }
 },
 "nbformat": 4,
 "nbformat_minor": 5
}
