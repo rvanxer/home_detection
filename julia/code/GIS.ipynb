{
 "cells": [
  {
   "attachments": {},
   "cell_type": "markdown",
   "id": "e8c6a070-18d0-4ea4-9d77-b88b9fae6b2f",
   "metadata": {},
   "source": [
    "# Setup"
   ]
  },
  {
   "cell_type": "code",
   "execution_count": 1,
   "id": "40d8e924-25be-4a77-a2ef-4169b0c377cf",
   "metadata": {
    "tags": []
   },
   "outputs": [
    {
     "data": {
      "text/plain": [
       "\"/home/umni2/a/umnilab/users/verma99/mk/home_detection/julia/code\""
      ]
     },
     "execution_count": 1,
     "metadata": {},
     "output_type": "execute_result"
    }
   ],
   "source": [
    "pwd()"
   ]
  },
  {
   "cell_type": "code",
   "execution_count": 2,
   "id": "9f6e74d1",
   "metadata": {},
   "outputs": [],
   "source": [
    "using ArchGDAL; const GDAL = ArchGDAL\n",
    "using ColorSchemes\n",
    "# using LightOSM\n",
    "using GeometryBasics\n",
    "using GeoDataFrames; const GDF = GeoDataFrames;"
   ]
  },
  {
   "cell_type": "code",
   "execution_count": 3,
   "id": "18e40b22-492b-41a3-9667-9511d9f08d4b",
   "metadata": {
    "tags": []
   },
   "outputs": [],
   "source": [
    "include(\"setup.jl\");"
   ]
  },
  {
   "attachments": {},
   "cell_type": "markdown",
   "id": "8509be9f-2e1a-4bf4-bbd2-37f06e9bfafc",
   "metadata": {},
   "source": [
    "# Regional boundaries"
   ]
  },
  {
   "attachments": {},
   "cell_type": "markdown",
   "id": "da2fb877",
   "metadata": {},
   "source": [
    "## Define regions"
   ]
  },
  {
   "cell_type": "code",
   "execution_count": 4,
   "id": "d4fa72a6",
   "metadata": {},
   "outputs": [],
   "source": [
    "austin = Region(\"Austin\", \"Texas\", [\n",
    "    \"Bastrop\", \"Caldwell\", \"Hays\", \"Travis\", \"Williamson\"]);"
   ]
  },
  {
   "cell_type": "code",
   "execution_count": 5,
   "id": "88c4970a",
   "metadata": {},
   "outputs": [],
   "source": [
    "batonRouge = Region(\"Baton Rouge\", \"Louisiana\", [\n",
    "    \"Ascension\", \"East Baton Rouge\", \"East Feliciana\", \"Iberville\", \"Livingston\",\n",
    "    \"Pointe Coupee\", \"St. Helena\", \"West Baton Rouge\", \"West Feliciana\"]);"
   ]
  },
  {
   "cell_type": "code",
   "execution_count": 6,
   "id": "62f995fd",
   "metadata": {},
   "outputs": [],
   "source": [
    "houston = Region(\"Houston\", \"Texas\", [\n",
    "    \"Austin\",\"Brazoria\",\"Chambers\",\"Fort Bend\",\"Galveston\",\n",
    "    \"Harris\",\"Liberty\",\"Montgomery\",\"Waller\"]);"
   ]
  },
  {
   "cell_type": "code",
   "execution_count": 7,
   "id": "9f08496d",
   "metadata": {},
   "outputs": [],
   "source": [
    "indy = Region(\"Indianapolis\", \"Indiana\", [\n",
    "    \"Boone\",\"Brown\",\"Hamilton\",\"Hancock\",\"Hendricks\",\"Johnson\",\n",
    "    \"Madison\",\"Marion\",\"Morgan\",\"Putnam\",\"Shelby\"]);"
   ]
  },
  {
   "cell_type": "code",
   "execution_count": 8,
   "id": "9dc6faa4",
   "metadata": {},
   "outputs": [],
   "source": [
    "sanAntonio = Region(\"San Antonio\", \"Texas\", [\n",
    "    \"Atascosa\", \"Bandera\", \"Bexar\", \"Comal\", \n",
    "    \"Guadalupe\", \"Kendall\", \"Medina\", \"Wilson\"]);"
   ]
  },
  {
   "cell_type": "code",
   "execution_count": 9,
   "id": "074ba548",
   "metadata": {},
   "outputs": [],
   "source": [
    "regions = Region[austin, batonRouge, houston, indy, sanAntonio];"
   ]
  },
  {
   "attachments": {},
   "cell_type": "markdown",
   "id": "9983619c",
   "metadata": {},
   "source": [
    "## City limit"
   ]
  },
  {
   "cell_type": "code",
   "execution_count": 10,
   "id": "67387d66",
   "metadata": {},
   "outputs": [],
   "source": [
    "@pyimport(osmnx)"
   ]
  },
  {
   "cell_type": "code",
   "execution_count": 11,
   "id": "c2f9c630",
   "metadata": {},
   "outputs": [],
   "source": [
    "# function getCityLimit(rgn::Region, save = true, overwrite = false)\n",
    "#     outfile = \"$(rgn.root)/city_limit.gpkg\"\n",
    "#     if isfile(outfile) && !overwrite\n",
    "#         return outfile\n",
    "#     end\n",
    "#     df = LightOSM.download_osm_network\n",
    "# end\n",
    "\n",
    "# x = getCityLimit(indy)"
   ]
  },
  {
   "cell_type": "code",
   "execution_count": 12,
   "id": "3c4fd1bb",
   "metadata": {},
   "outputs": [],
   "source": [
    "# function pd2df(pd_df)\n",
    "#     colnames = map(Symbol, pd_df.columns)\n",
    "#     # df = DataFrame(Any[Array(pd_df[c].values) for c in colnames], colnames)\n",
    "# end\n",
    "\n",
    "# y = pd2df(x)"
   ]
  },
  {
   "cell_type": "code",
   "execution_count": 13,
   "id": "94746217",
   "metadata": {},
   "outputs": [],
   "source": [
    "# df = DataFrame()\n",
    "# for col in x.columns\n",
    "#     println(col)\n",
    "#     df[!, col] = getproperty(x, col).values\n",
    "# end"
   ]
  },
  {
   "cell_type": "code",
   "execution_count": 17,
   "id": "c095e3f4",
   "metadata": {},
   "outputs": [
    {
     "data": {
      "text/plain": [
       "ArchGDAL.IGeometry{ArchGDAL.wkbPolygon}"
      ]
     },
     "execution_count": 17,
     "metadata": {},
     "output_type": "execute_result"
    }
   ],
   "source": [
    "function getCityLimit(rgn::Region, save = true, overwrite = false)\n",
    "    outfile = \"$(rgn.root)/city_limit.gpkg\"\n",
    "    if isfile(outfile) && !overwrite\n",
    "        return outfile\n",
    "    end\n",
    "    df = osmnx.geocode_to_gdf(rgn.geocode)\n",
    "    geom = GDAL.fromWKT(getproperty(df, \"geometry\").values[1].wkt)\n",
    "    # gdf =\n",
    "    return typeof(geom)\n",
    "    # df = osmnx.geocode_to_gdf(rgn.geocode)\n",
    "    # df = df[['geometry']].to_crs(CRS_DEG)\n",
    "    # if save:\n",
    "    #     df.to_file(U.mkfile(outfile))\n",
    "    # return df\n",
    "end\n",
    "\n",
    "x = getCityLimit(indy)"
   ]
  },
  {
   "cell_type": "code",
   "execution_count": null,
   "id": "9db38328",
   "metadata": {},
   "outputs": [
    {
     "ename": "LoadError",
     "evalue": "ArgumentError: Package GeoDataFrame not found in current path.\n- Run `import Pkg; Pkg.add(\"GeoDataFrame\")` to install the GeoDataFrame package.",
     "output_type": "error",
     "traceback": [
      "ArgumentError: Package GeoDataFrame not found in current path.\n- Run `import Pkg; Pkg.add(\"GeoDataFrame\")` to install the GeoDataFrame package.",
      "",
      "Stacktrace:",
      " [1] macro expansion",
      "   @ ./loading.jl:1595 [inlined]",
      " [2] macro expansion",
      "   @ ./lock.jl:267 [inlined]",
      " [3] require(into::Module, mod::Symbol)",
      "   @ Base ./loading.jl:1576"
     ]
    }
   ],
   "source": []
  },
  {
   "cell_type": "code",
   "execution_count": null,
   "id": "20ad0f7e",
   "metadata": {},
   "outputs": [],
   "source": []
  }
 ],
 "metadata": {
  "kernelspec": {
   "display_name": "Julia 1.9.0",
   "language": "julia",
   "name": "julia-1.9"
  },
  "language_info": {
   "file_extension": ".jl",
   "mimetype": "application/julia",
   "name": "julia",
   "version": "1.9.0"
  }
 },
 "nbformat": 4,
 "nbformat_minor": 5
}
